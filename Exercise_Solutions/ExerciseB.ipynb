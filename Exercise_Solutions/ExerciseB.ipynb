{
 "cells": [
  {
   "cell_type": "markdown",
   "id": "d0726a72",
   "metadata": {},
   "source": [
    "# Exercise B: Solutions"
   ]
  },
  {
   "cell_type": "code",
   "execution_count": null,
   "id": "97786f69",
   "metadata": {},
   "outputs": [],
   "source": [
    "import numpy as np\n",
    "\n",
    "# data points:\n",
    "x = np.array([-0.37, -1.77, +1.15, -0.85])\n",
    "y = np.array([+3.88, +0.64, -5.77, +4.51])\n",
    "\n",
    "# Convert it to a column vector\n",
    "# Here, I only convert  y to a column vector, as x is later used to create the Vandermonde matrix\n",
    "y = y.reshape(-1, 1)"
   ]
  },
  {
   "cell_type": "markdown",
   "id": "de218ca9",
   "metadata": {},
   "source": [
    "### Visualize data"
   ]
  },
  {
   "cell_type": "code",
   "execution_count": null,
   "id": "046d9329",
   "metadata": {},
   "outputs": [],
   "source": [
    "from matplotlib import pyplot as plt\n",
    "plt.scatter(x, y, marker='o', s=70, color='blue', label='Data Points')\n",
    "plt.xlabel('x')\n",
    "plt.ylabel('y')\n",
    "plt.legend()\n",
    "plt.grid(True, linestyle='--', alpha=0.7)\n",
    "plt.tight_layout()\n",
    "plt.show()"
   ]
  },
  {
   "cell_type": "markdown",
   "id": "74b8f911",
   "metadata": {},
   "source": [
    "### Forming Vandermonde for degree 2 (columns: 1, $x$, $x^2$)"
   ]
  },
  {
   "cell_type": "code",
   "execution_count": null,
   "id": "c5f52cc8",
   "metadata": {},
   "outputs": [],
   "source": [
    "degree = 2\n",
    "X = np.vander(x, N=degree+1, increasing=True)\n",
    "\n",
    "print(\"Vandermonde matrix (degree 2):\")\n",
    "print(X)"
   ]
  },
  {
   "cell_type": "markdown",
   "id": "7c385af0",
   "metadata": {},
   "source": [
    "### Finding the optimal weights using closed-form"
   ]
  },
  {
   "cell_type": "code",
   "execution_count": null,
   "id": "090d53fc",
   "metadata": {},
   "outputs": [],
   "source": [
    "w = np.linalg.inv(X.T @ X) @ X.T @ y\n",
    "\n",
    "print(f\"Optimal weight w0 = {w[0][0]:+.4f}\")\n",
    "print(f\"Optimal weight w1 = {w[1][0]:+.4f}\")\n",
    "print(f\"Optimal weight w2 = {w[2][0]:+.4f}\")\n"
   ]
  },
  {
   "cell_type": "markdown",
   "id": "32aea334",
   "metadata": {},
   "source": [
    "### Predict values $y^*_i=h_{\\text{best}}(x)$"
   ]
  },
  {
   "cell_type": "code",
   "execution_count": null,
   "id": "3c4fb4ab",
   "metadata": {},
   "outputs": [],
   "source": [
    "y_pred_best_h = X @ w"
   ]
  },
  {
   "cell_type": "markdown",
   "id": "3ec44f96",
   "metadata": {},
   "source": [
    "### Visualize"
   ]
  },
  {
   "cell_type": "code",
   "execution_count": null,
   "id": "ddac9347",
   "metadata": {},
   "outputs": [],
   "source": [
    "from matplotlib import pyplot as plt\n",
    "plt.scatter(x, y, marker='o', s=100, color='royalblue', label='Data Points')\n",
    "plt.scatter(x, y_pred_best_h, marker='x', s=100, color='tomato', label='Predicted Points from Optimal h(x)')\n",
    "plt.xlabel('x')\n",
    "plt.ylabel('y')\n",
    "plt.legend()\n",
    "plt.grid(True, linestyle='--', alpha=0.7)\n",
    "plt.show()"
   ]
  },
  {
   "cell_type": "markdown",
   "id": "5529ce0c",
   "metadata": {},
   "source": [
    "### MSE for $h_{\\text{best}}(x)$"
   ]
  },
  {
   "cell_type": "code",
   "execution_count": null,
   "id": "73082493",
   "metadata": {},
   "outputs": [],
   "source": [
    "from sklearn.metrics import mean_squared_error\n",
    "mse_best_h = mean_squared_error(y, y_pred_best_h)\n",
    "print(f\"Mean Squared Error (MSE) for optimal h(x): {mse_best_h:.4f}\")"
   ]
  }
 ],
 "metadata": {
  "kernelspec": {
   "display_name": "Python 3",
   "language": "python",
   "name": "python3"
  },
  "language_info": {
   "codemirror_mode": {
    "name": "ipython",
    "version": 3
   },
   "file_extension": ".py",
   "mimetype": "text/x-python",
   "name": "python",
   "nbconvert_exporter": "python",
   "pygments_lexer": "ipython3",
   "version": "3.12.4"
  }
 },
 "nbformat": 4,
 "nbformat_minor": 5
}
