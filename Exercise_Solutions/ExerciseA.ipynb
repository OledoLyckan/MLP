{
 "cells": [
  {
   "cell_type": "markdown",
   "id": "d0726a72",
   "metadata": {},
   "source": [
    "# Exercise A: Solutions"
   ]
  },
  {
   "cell_type": "code",
   "execution_count": null,
   "id": "97786f69",
   "metadata": {},
   "outputs": [],
   "source": [
    "import numpy as np\n",
    "\n",
    "# data points:\n",
    "x = np.array([-0.37, -1.77, +1.15, -0.85])\n",
    "y = np.array([-0.61, -2.30, +2.92, -0.63])\n",
    "\n",
    "# Convert it to a column vector\n",
    "# I could have written my data points as column vectors from the start\n",
    "# but I wanted to show you how to do the conversion, as it is needed later in the course.\n",
    "x = x.reshape(-1, 1)\n",
    "y = y.reshape(-1, 1)"
   ]
  },
  {
   "cell_type": "markdown",
   "id": "de218ca9",
   "metadata": {},
   "source": [
    "### Visualize data"
   ]
  },
  {
   "cell_type": "code",
   "execution_count": null,
   "id": "046d9329",
   "metadata": {},
   "outputs": [],
   "source": [
    "from matplotlib import pyplot as plt\n",
    "plt.scatter(x, y, marker='o', s=70, color='royalblue', label='Data Points')\n",
    "plt.xlabel('x')\n",
    "plt.ylabel('y')\n",
    "plt.legend()\n",
    "plt.grid(True, linestyle='--', alpha=0.7)\n",
    "plt.show()"
   ]
  },
  {
   "cell_type": "markdown",
   "id": "ec8fee9f",
   "metadata": {},
   "source": [
    "### General form of a linear $h(x)$"
   ]
  },
  {
   "cell_type": "code",
   "execution_count": null,
   "id": "c7b137ae",
   "metadata": {},
   "outputs": [],
   "source": [
    "# Hypothetical function\n",
    "def h(w0, w1, x):\n",
    "    return w0 + w1 * x"
   ]
  },
  {
   "cell_type": "markdown",
   "id": "fea10d33",
   "metadata": {},
   "source": [
    "### Predict values $y^*_i=h_1(x)$"
   ]
  },
  {
   "cell_type": "code",
   "execution_count": null,
   "id": "17eb5d1b",
   "metadata": {},
   "outputs": [],
   "source": [
    "w0 = -0.5  # y-intercept\n",
    "w1 = 1.0   # slope\n",
    "\n",
    "# Predict y values using the hypothetical function h1(x)= -0.5 + 1.0*x\n",
    "y_pred_h1 = h(w0, w1, x)\n",
    "\n",
    "for y_star in y_pred_h1:\n",
    "    print(y_star)"
   ]
  },
  {
   "cell_type": "markdown",
   "id": "bcf64ae5",
   "metadata": {},
   "source": [
    "### Check shapes (dimensions)"
   ]
  },
  {
   "cell_type": "code",
   "execution_count": null,
   "id": "14e83885",
   "metadata": {},
   "outputs": [],
   "source": [
    "print(\"Shape of x: \", x.shape)\n",
    "print(\"Shape of y: \", y.shape)\n",
    "print(\"Shape of y_pred_h1: \", y_pred_h1.shape)"
   ]
  },
  {
   "cell_type": "markdown",
   "id": "1378f602",
   "metadata": {},
   "source": [
    "### Visualize predicted values from $h_1(x)$"
   ]
  },
  {
   "cell_type": "code",
   "execution_count": null,
   "id": "88ade41e",
   "metadata": {},
   "outputs": [],
   "source": [
    "from matplotlib import pyplot as plt\n",
    "plt.scatter(x, y, marker='o', s=70, color='royalblue', label='Data Points')\n",
    "plt.scatter(x, y_pred_h1, marker='x', s=70, color='tomato', label='Predicted Points from h1(x)')\n",
    "plt.xlabel('x')\n",
    "plt.ylabel('y')\n",
    "plt.legend()\n",
    "plt.grid(True, linestyle='--', alpha=0.7)\n",
    "plt.show()"
   ]
  },
  {
   "cell_type": "markdown",
   "id": "e5562c97",
   "metadata": {},
   "source": [
    "### Cost function using MSE"
   ]
  },
  {
   "cell_type": "code",
   "execution_count": null,
   "id": "1b3e5ffe",
   "metadata": {},
   "outputs": [],
   "source": [
    "def cost(w0, w1, x, y):\n",
    "    \"\"\" Compute MSE cost function \"\"\"\n",
    "    n = len(y)  # number of sample (data) points\n",
    "    y_pred = h(w0, w1, x)  # predicted values\n",
    "    J = (1/n) * np.sum((y_pred - y)**2)  # MSE formula\n",
    "    return J"
   ]
  },
  {
   "cell_type": "markdown",
   "id": "519b89eb",
   "metadata": {},
   "source": [
    "### Cost for $h_1(x)$"
   ]
  },
  {
   "cell_type": "code",
   "execution_count": null,
   "id": "c15b9a45",
   "metadata": {},
   "outputs": [],
   "source": [
    "J1 = cost(w0, w1, x, y)\n",
    "print(f\"Cost J({w0}, {w1}) = {J1:.4e}\")"
   ]
  },
  {
   "cell_type": "markdown",
   "id": "14bb2ab4",
   "metadata": {},
   "source": [
    "### Predict values $y^*_i=h_2(x)$"
   ]
  },
  {
   "cell_type": "code",
   "execution_count": null,
   "id": "e1d8a10f",
   "metadata": {},
   "outputs": [],
   "source": [
    "w0 = 0.4  # y-intercept\n",
    "w1 = 1.7  # slope\n",
    "# Predict y values using the hypothetical function h2(x)= 0.4 + 1.7*x\n",
    "y_pred_h2 = h(w0, w1, x)\n",
    "\n",
    "for y_star in y_pred_h2:\n",
    "    print(y_star)"
   ]
  },
  {
   "cell_type": "markdown",
   "id": "a2566a49",
   "metadata": {},
   "source": [
    "### Visualize all we have so far"
   ]
  },
  {
   "cell_type": "code",
   "execution_count": null,
   "id": "9a04f0c2",
   "metadata": {},
   "outputs": [],
   "source": [
    "from matplotlib import pyplot as plt\n",
    "plt.scatter(x, y, marker='o', s=70, color='royalblue', label='Data Points')\n",
    "plt.scatter(x, y_pred_h1, marker='x', s=70, color='tomato', label='Predicted Points from h1(x)')\n",
    "plt.scatter(x, y_pred_h2, marker='s', s=70, color='forestgreen', label='Predicted Points from h2(x)')\n",
    "plt.xlabel('x')\n",
    "plt.ylabel('y')\n",
    "plt.legend()\n",
    "plt.grid(True, linestyle='--', alpha=0.7)\n",
    "plt.show()"
   ]
  },
  {
   "cell_type": "markdown",
   "id": "f452f109",
   "metadata": {},
   "source": [
    "### Cost for $h_2(x)$"
   ]
  },
  {
   "cell_type": "code",
   "execution_count": null,
   "id": "d7a94a10",
   "metadata": {},
   "outputs": [],
   "source": [
    "J2 = cost(w0, w1, x, y)\n",
    "print(f\"Cost J({w0}, {w1}) = {J2:.4e}\")"
   ]
  },
  {
   "cell_type": "markdown",
   "id": "7c385af0",
   "metadata": {},
   "source": [
    "### Finding the optimal weights using closed-form"
   ]
  },
  {
   "cell_type": "code",
   "execution_count": null,
   "id": "090d53fc",
   "metadata": {},
   "outputs": [],
   "source": [
    "X = np.hstack((np.ones_like(x), x))  # Add a column of ones to x for the intercept term\n",
    "w = np.linalg.inv(X.T @ X) @ X.T @ y\n",
    "print(f\"Optimal weight w0 (or y-intercept) = {w[0][0]:.4f}\")\n",
    "print(f\"Optimal weight w1 (or slope)       = {w[1][0]:.4f}\")\n",
    "\n",
    "print(\"\\nWeight w in vector format:\")\n",
    "print(w)"
   ]
  },
  {
   "cell_type": "markdown",
   "id": "32aea334",
   "metadata": {},
   "source": [
    "### Predict values $y^*_i=h_{\\text{best}}(x)$"
   ]
  },
  {
   "cell_type": "code",
   "execution_count": null,
   "id": "3c4fb4ab",
   "metadata": {},
   "outputs": [],
   "source": [
    "y_pred_best_h = h(w[0][0], w[1][0], x)"
   ]
  },
  {
   "cell_type": "markdown",
   "id": "3ec44f96",
   "metadata": {},
   "source": [
    "### Visualize"
   ]
  },
  {
   "cell_type": "code",
   "execution_count": null,
   "id": "ddac9347",
   "metadata": {},
   "outputs": [],
   "source": [
    "from matplotlib import pyplot as plt\n",
    "plt.scatter(x, y, marker='o', s=70, color='royalblue', label='Data Points')\n",
    "plt.scatter(x, y_pred_h1, marker='x', s=70, color='tomato', label='Predicted Points from h1(x)')\n",
    "plt.scatter(x, y_pred_h2, marker='s', s=70, color='forestgreen', label='Predicted Points from h2(x)')\n",
    "plt.scatter(x, y_pred_best_h, marker='*', s=70, color='magenta', label='Predicted Points from Optimal h(x)')\n",
    "plt.xlabel('x')\n",
    "plt.ylabel('y')\n",
    "plt.legend()\n",
    "plt.grid(True, linestyle='--', alpha=0.7)\n",
    "plt.show()"
   ]
  },
  {
   "cell_type": "markdown",
   "id": "5529ce0c",
   "metadata": {},
   "source": [
    "### Cost for $h_{\\text{best}}(x)$"
   ]
  },
  {
   "cell_type": "code",
   "execution_count": null,
   "id": "73082493",
   "metadata": {},
   "outputs": [],
   "source": [
    "J_best = cost(w[0][0], w[1][0], x, y)\n",
    "print(f\"Cost J_best = {J_best:.4e}\")"
   ]
  },
  {
   "cell_type": "markdown",
   "id": "e7a420b0",
   "metadata": {},
   "source": [
    "Let's also calculate it using the existing metrics in SciKit-Learn:"
   ]
  },
  {
   "cell_type": "code",
   "execution_count": null,
   "id": "0b76ac45",
   "metadata": {},
   "outputs": [],
   "source": [
    "from sklearn.metrics import mean_squared_error\n",
    "mse_best_h = mean_squared_error(y, y_pred_best_h)\n",
    "print(f\"MSE for optimal h(x): {mse_best_h:.4e}\")"
   ]
  },
  {
   "cell_type": "code",
   "execution_count": null,
   "id": "77a3aac8",
   "metadata": {},
   "outputs": [],
   "source": [
    "print(\"J1: {:.4e}\\nJ2: {:.4e}\\nJ_best: {:.4e}\".format(J1, J2, J_best))"
   ]
  }
 ],
 "metadata": {
  "kernelspec": {
   "display_name": "Python 3",
   "language": "python",
   "name": "python3"
  },
  "language_info": {
   "codemirror_mode": {
    "name": "ipython",
    "version": 3
   },
   "file_extension": ".py",
   "mimetype": "text/x-python",
   "name": "python",
   "nbconvert_exporter": "python",
   "pygments_lexer": "ipython3",
   "version": "3.12.4"
  }
 },
 "nbformat": 4,
 "nbformat_minor": 5
}
