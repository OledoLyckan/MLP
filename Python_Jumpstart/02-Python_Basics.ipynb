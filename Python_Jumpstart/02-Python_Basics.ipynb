{
 "cells": [
  {
   "cell_type": "markdown",
   "id": "ccbb699a",
   "metadata": {},
   "source": [
    "**Author:** Shahab Fatemi\n",
    "\n",
    "**Email:** shahab.fatemi@umu.se   ;   shahab.fatemi@amitiscode.com\n",
    "\n",
    "**Created:** 2025-06-18\n",
    "\n",
    "**Last update:** 2025-08-24\n",
    "\n",
    "**MIT License** — Shahab Fatemi (2025); For use in the *Machine Learning in Physics* course, Umeå University, Sweden; See the full license text in the parent folder.\n",
    "\n",
    "<hr>"
   ]
  },
  {
   "cell_type": "markdown",
   "id": "383170f5",
   "metadata": {},
   "source": [
    "## Printing with Formats in Python\n",
    "\n",
    "Printing formatted outputs are important for displaying data in a readable and meaningful way. Python provides several ways to format output.\n",
    "\n",
    "Here, I've listed some code examples for you to run and learn. No MATLAB equivalant as I'm not using it."
   ]
  },
  {
   "cell_type": "code",
   "execution_count": null,
   "id": "d1980863",
   "metadata": {},
   "outputs": [],
   "source": [
    "name = \"John Doe\"   # string\n",
    "age  = 23           # integer\n",
    "\n",
    "# Old-style string formatting, similar to printf in C\n",
    "print(\"My name is %s and I am %d years old.\" %(name, age)) \n",
    "\n",
    "# Another way to print the variables, more readable\n",
    "print(\"My name is \" + name + \" and I am \" + str(age) + \" years old.\")\n",
    "\n",
    "# Another way to format strings by using placeholders {}\n",
    "print(\"My name is {} and I am {} years old.\".format(name, age))  #  str.format() method\n",
    "\n",
    "# Another way to print the variables. The output is the same.\n",
    "print(f\"My name is {name} and I am {age} years old.\")  #  f-Strings (Formatted String Literals)"
   ]
  },
  {
   "cell_type": "markdown",
   "id": "e9b01595",
   "metadata": {},
   "source": [
    "### Formatting numbers\n",
    "\n",
    "You can format numbers to control their appearance in the output text."
   ]
  },
  {
   "cell_type": "code",
   "execution_count": null,
   "id": "797e47ec",
   "metadata": {},
   "outputs": [],
   "source": [
    "pi = 1003.4567\n",
    "print(\"Value of pi: {:.2f}\".format(pi))  # 2 decimal places\n",
    "print(\"Value of pi: {:,.2f}\".format(pi)) # Comma as thousands separator"
   ]
  },
  {
   "cell_type": "markdown",
   "id": "c7e08d6c",
   "metadata": {},
   "source": [
    "### Signed numbers"
   ]
  },
  {
   "cell_type": "code",
   "execution_count": null,
   "id": "c2a086c7",
   "metadata": {},
   "outputs": [],
   "source": [
    "value = 23\n",
    "print(\"The value is %+d\" % value)       # Displays the sign, similar to C-style formatting\n",
    "\n",
    "# OR\n",
    "print(\"The value is {:+d}\".format(value))  # Outputs: +23\n",
    "\n",
    "# OR\n",
    "print(f\"The value is {value:+d}\")     # Note the f-sign is required as the format string is an f-string\n",
    "\n",
    "value_negative = -23\n",
    "print(\"The value is %+d\" % value_negative)  # Displays the sign\n",
    "print(\"The value is {:+d}\".format(value_negative))  # Outputs: -23\n",
    "print(f\"The value is {value_negative:+d}\")"
   ]
  },
  {
   "cell_type": "markdown",
   "id": "8bd6a46e",
   "metadata": {},
   "source": [
    "Naturally, I should prefer the C-style formatting, but in Python, I really like f-string formatting because it is the most readable and easier to use. What is your favorite?\n",
    "```python\n",
    "    print(f\"The value is {value:+d}\")  # f-string formatting\n",
    "```"
   ]
  },
  {
   "cell_type": "markdown",
   "id": "b3423e4e",
   "metadata": {},
   "source": [
    "***\n",
    "## Creating Functions in Python\n",
    "\n",
    "Functions help you organize your codes and make it more readable and maintainable. In Python, functions are defined using the `def` keyword.\n",
    "\n",
    "### Simple function\n",
    "\n",
    "A simple function takes no parameters and returns no values. It only performs specific tasks."
   ]
  },
  {
   "cell_type": "code",
   "execution_count": null,
   "id": "a2c2ee28",
   "metadata": {},
   "outputs": [],
   "source": [
    "def hi_func():\n",
    "    print(\"Hello, Python!\")\n",
    "\n",
    "# Calling the function\n",
    "hi_func()"
   ]
  },
  {
   "cell_type": "markdown",
   "id": "8ff89cfb",
   "metadata": {},
   "source": [
    "### Function with Parameters\n",
    "\n",
    "Functions can accept parameters, allowing you to pass data to them for processing."
   ]
  },
  {
   "cell_type": "code",
   "execution_count": null,
   "id": "05a07710",
   "metadata": {},
   "outputs": [],
   "source": [
    "def show_info(name, age):\n",
    "    print(\"------------------------------\")\n",
    "    print(f\"{name} is {age} years old.\")\n",
    "    print(\"-\" * 30)    # Equivalent to print(\"------------------------------\")\n",
    "\n",
    "# Calling the function with an argument\n",
    "show_info(\"John Doe\", 42)"
   ]
  },
  {
   "cell_type": "markdown",
   "id": "c7c5b847",
   "metadata": {},
   "source": [
    "### Function with return value"
   ]
  },
  {
   "cell_type": "code",
   "execution_count": null,
   "id": "b3239af8",
   "metadata": {},
   "outputs": [],
   "source": [
    "def add(x, y):\n",
    "    return x + y\n",
    "\n",
    "# Calling the function, storing, and showing the result\n",
    "result = add(2, 7)\n",
    "print(f\"The sum is: {result}\")"
   ]
  },
  {
   "cell_type": "markdown",
   "id": "2c5db557",
   "metadata": {},
   "source": [
    "### ⚠️ Note:\n",
    "I'm originally a C/C++ programmer with my old C/C++ habits. You may see me writing the `add` function above as:\n",
    "```python\n",
    "def add(x, y):\n",
    "    return (x + y)\n",
    "```\n",
    "\n",
    "Or, e.g., for the conditional statements, the \"Python\" way for wirting IF conditions is:\n",
    "```python\n",
    "if a > 0:\n",
    "    print(a)\n",
    "```\n",
    "\n",
    "My way is:\n",
    "```python\n",
    "if(a > 0):\n",
    "    print(a)\n",
    "```"
   ]
  },
  {
   "cell_type": "markdown",
   "id": "9a294db1",
   "metadata": {},
   "source": [
    "### Function with default parameters\n",
    "You can define default values for parameters, which are used if no argument is provided during the function call."
   ]
  },
  {
   "cell_type": "code",
   "execution_count": null,
   "id": "5696dc2a",
   "metadata": {},
   "outputs": [],
   "source": [
    "def add_new(x, y=10):\n",
    "    return x + y\n",
    "\n",
    "# Calling the function with all arguments\n",
    "result = add_new(2, 7)\n",
    "print(f\"The sum is: {result}\")\n",
    "\n",
    "# Calling the function with only one argument\n",
    "result = add_new(5)\n",
    "print(f\"The sum with default is: {result}\")"
   ]
  },
  {
   "cell_type": "markdown",
   "id": "f5cb5dbf",
   "metadata": {},
   "source": [
    "Another example with IF/ELSE statement."
   ]
  },
  {
   "cell_type": "code",
   "execution_count": null,
   "id": "d82eb473",
   "metadata": {},
   "outputs": [],
   "source": [
    "def show_info_new(name, age=None):\n",
    "    if age is not None:\n",
    "        print(f\"{name} is {age} years old.\")\n",
    "    else:\n",
    "        print(f\"Age information for {name} is not provided.\")\n",
    "\n",
    "# Calling the function with an argument\n",
    "show_info_new(\"John Doe\", 42)\n",
    "\n",
    "# Calling the function without the age argument\n",
    "show_info_new(\"Jessica Doe\")"
   ]
  },
  {
   "cell_type": "markdown",
   "id": "3ad61150",
   "metadata": {},
   "source": [
    "### Lambda Functions\n",
    "Lambda functions are small anonymous functions defined using the lambda keyword. They can take any number of arguments but only have one expression.\n",
    "Note: There is no `def`."
   ]
  },
  {
   "cell_type": "code",
   "execution_count": null,
   "id": "ec809e4f",
   "metadata": {},
   "outputs": [],
   "source": [
    "my_add = lambda a, b: a + b\n",
    "print(my_add(3, 7))  # Output: 10"
   ]
  },
  {
   "cell_type": "markdown",
   "id": "080a63e9",
   "metadata": {},
   "source": [
    "***\n",
    "## Loops"
   ]
  },
  {
   "cell_type": "markdown",
   "id": "1cb13374",
   "metadata": {},
   "source": [
    "A basic `for` loop iterates over a list, data array, or tuple to perform an action for each element."
   ]
  },
  {
   "cell_type": "code",
   "execution_count": null,
   "id": "05a2a826",
   "metadata": {},
   "outputs": [],
   "source": [
    "text_list = [\"Teknisk Fysik\", \"Umeå\", \"MLP\"]\n",
    "\n",
    "for text in text_list:\n",
    "    print(text)"
   ]
  },
  {
   "cell_type": "markdown",
   "id": "4e1bf756",
   "metadata": {},
   "source": [
    "You can use the `range()` or `np.arange()` to generate a sequence of numbers."
   ]
  },
  {
   "cell_type": "code",
   "execution_count": null,
   "id": "7971f48e",
   "metadata": {},
   "outputs": [],
   "source": [
    "for i in range(5):\n",
    "    print(f\"Iteration {i}\")"
   ]
  },
  {
   "cell_type": "code",
   "execution_count": null,
   "id": "00ecbc1a",
   "metadata": {},
   "outputs": [],
   "source": [
    "for i in range(0, 10, 2):\n",
    "    print(f\"Iteration {i}\")"
   ]
  },
  {
   "cell_type": "code",
   "execution_count": null,
   "id": "0694e689",
   "metadata": {},
   "outputs": [],
   "source": [
    "import numpy as np\n",
    "for i in np.arange(0, 10, 2):\n",
    "    print(f\"Iteration {i}\")"
   ]
  },
  {
   "cell_type": "markdown",
   "id": "09eeef18",
   "metadata": {},
   "source": [
    "The `enumerate()` function adds a counter to an iterable object, which is useful for getting both the index and the value."
   ]
  },
  {
   "cell_type": "code",
   "execution_count": null,
   "id": "fc9a3455",
   "metadata": {},
   "outputs": [],
   "source": [
    "for index, text in enumerate(text_list):\n",
    "    print(f\"Index {index}: {text}\")"
   ]
  },
  {
   "cell_type": "markdown",
   "id": "c8259c73",
   "metadata": {},
   "source": [
    "### Nested For Loops"
   ]
  },
  {
   "cell_type": "code",
   "execution_count": null,
   "id": "5b9af8fa",
   "metadata": {},
   "outputs": [],
   "source": [
    "import numpy as np\n",
    "a = np.array([[1, 2, 3], [4, 5, 6], [7, 8, 9]])\n",
    "\n",
    "for row in a:\n",
    "    for element in row:\n",
    "        print(element)\n",
    "    print()  # for new line after each row"
   ]
  },
  {
   "cell_type": "code",
   "execution_count": null,
   "id": "db08e76d",
   "metadata": {},
   "outputs": [],
   "source": [
    "a = np.array([1, 2, 3, 4, 5])\n",
    "\n",
    "for num in a:\n",
    "    if num % 2 == 0:\n",
    "        print(f\"{num} is even.\")\n",
    "    else:\n",
    "        print(f\"{num} is odd.\")"
   ]
  },
  {
   "cell_type": "markdown",
   "id": "601e5e9d",
   "metadata": {},
   "source": [
    "⚠️\n",
    "In Python, especially with NumPy, it is best to avoid for-loops when possible. Instead, we use **vectorization**, which is a method of applying operations to entire arrays without writing explicit loops. Vectorized code is not only faster (as it uses optimized C under the hood) but also cleaner and easier to read. We will explore this next."
   ]
  },
  {
   "cell_type": "markdown",
   "id": "f8b5653a",
   "metadata": {},
   "source": [
    "### Vectorization in Python with NumPy"
   ]
  },
  {
   "cell_type": "code",
   "execution_count": null,
   "id": "aa22d94e",
   "metadata": {},
   "outputs": [],
   "source": [
    "import numpy as np\n",
    "\n",
    "a = np.array([1, 2, 3])\n",
    "b = np.array([4, 5, 6])\n",
    "\n",
    "# Vectorized addition; instead of looping through elements\n",
    "c = a + b\n",
    "print(\"Vectorized Addition:\", c)"
   ]
  },
  {
   "cell_type": "markdown",
   "id": "ef4286af",
   "metadata": {},
   "source": [
    "### Conditional Vectorization\n",
    "\n",
    "You can use boolean indexing you learned in the previous Notebook to perform operations based on conditions without explicit loops."
   ]
  },
  {
   "cell_type": "code",
   "execution_count": null,
   "id": "7c38ff0d",
   "metadata": {},
   "outputs": [],
   "source": [
    "np.random.seed(42)           # For reproducibility\n",
    "a = np.random.rand(10) * 10  # Random array of 10 elements scaled to 0-10\n",
    "b = np.where(a > 4.5, a, 0)  # Replace elements greater than 4.5 with themselves, others with 0\n",
    "print(\"Conditional Replacement: \\n\", b)"
   ]
  },
  {
   "cell_type": "markdown",
   "id": "11df573b",
   "metadata": {},
   "source": [
    "***\n",
    "END\n",
    "***"
   ]
  }
 ],
 "metadata": {
  "kernelspec": {
   "display_name": "Python 3",
   "language": "python",
   "name": "python3"
  },
  "language_info": {
   "codemirror_mode": {
    "name": "ipython",
    "version": 3
   },
   "file_extension": ".py",
   "mimetype": "text/x-python",
   "name": "python",
   "nbconvert_exporter": "python",
   "pygments_lexer": "ipython3",
   "version": "3.12.4"
  }
 },
 "nbformat": 4,
 "nbformat_minor": 5
}
