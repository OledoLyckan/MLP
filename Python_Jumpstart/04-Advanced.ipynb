{
 "cells": [
  {
   "cell_type": "markdown",
   "id": "69ee3b9e",
   "metadata": {},
   "source": [
    "**Author:** Shahab Fatemi\n",
    "\n",
    "**Email:** shahab.fatemi@umu.se   ;   shahab.fatemi@amitiscode.com\n",
    "\n",
    "**Created:** 2025-06-20\n",
    "\n",
    "**Last update:** 2025-08-20\n",
    "\n",
    "**MIT License** — Shahab Fatemi (2025); For use in the *Machine Learning in Physics* course, Umeå University, Sweden; See the full license text in the parent folder.\n",
    "\n",
    "<hr>"
   ]
  },
  {
   "cell_type": "markdown",
   "id": "f78ecc62",
   "metadata": {},
   "source": [
    "# Module\n",
    "\n",
    "## What is a Module?\n",
    "\n",
    "In Python, a module is a file that contains Python code including a set of functions, classes, and variables. Modules allow you to organize your code into manageable sections and prepare it for reuse by others. This concept also exists in MATLAB.\n",
    "\n",
    "## Why we use modules?\n",
    "\n",
    "Modules are important for organizing and structring your code in a way that enhances yours code *readability* and *maintainability*. By encapsulating related classes, functions, and variables within a module, developers can create a logical separation of code that makes it easier to navigate and understand. \n",
    "\n",
    "## Simple Example: My statistics module\n",
    "\n",
    "Let's create a simple module named `mystatistics.py` that calculates the mean and standard deviation of a list of numbers. \n",
    "\n",
    "1. Create a file named `mystatistics.py` and save the following code in it:\n",
    "\n",
    "```python\n",
    "    # My first statistics module\n",
    "    def mean(data):\n",
    "        return sum(data) / len(data)\n",
    "\n",
    "    def standard_deviation(data):\n",
    "        avg = mean(data)\n",
    "        variance = sum((x - avg) ** 2 for x in data) / len(data)\n",
    "        return variance ** 0.5\n",
    "```\n",
    "\n",
    "2. To use this module in another Python script, you can import it as follows:\n",
    "\n",
    "```python\n",
    "    import mystatistics\n",
    "\n",
    "    data = [10, 20, 30, 40, 50]\n",
    "    print(\"Mean:\", mystatistics.mean(data))\n",
    "    print(\"Standard Deviation:\", mystatistics.standard_deviation(data))\n",
    "```\n",
    "\n",
    "When you run the above script, it will output the mean and standard deviation of the provided data list.\n",
    "\n",
    "* In MATLAB, you can create a function file, which is a file that contains a function definition, saved with a `.m` extension, and you can call this function from the MATLAB command window or from other scripts.\n",
    "\n",
    "Now, do it yourself. Make sure the `mystatistics.py` file is in the same directory as your main script, and then run the script to see the results.\n",
    "\n",
    "***"
   ]
  },
  {
   "cell_type": "markdown",
   "id": "f14d6daa",
   "metadata": {},
   "source": [
    "# Object-Oriented Programming\n",
    "\n",
    "Object-Oriented Programming (OOP) provides a powerful way to structure code through the use of classes and objects. It allows for encapsulation, inheritance, and polymorphism, making it easier to manage and extend codebases. I will explain the principles in the class during the preparatory session, and you will learn it through working on this notebook. Please note that concepts like OOP are beyond the scope of our class, and you do not need to master them right away. I'm explaining the basics here, because I've developed my own classes in some of the MLP labs, and therefore, it would be important for you to understand these concepts to assist you better learn from the MLP labs.\n",
    "\n",
    "⚠️ I do not intend to move into advanced OOP topics such as inheritance and polymorphism in this session. Those you can learn later, or if you are already familiar with the basics of OOP, you are welcome to discuss the advanced topics with me."
   ]
  },
  {
   "cell_type": "markdown",
   "id": "3bdc25e6",
   "metadata": {},
   "source": [
    "We'll create a base class `Particle` that represents a generic particle and then derive specific particle types like `Electron` and `Proton`, as we discuss during the 2nd day of the preparatory session. Each particle will have `properties` (or attributes) such as *mass* and *charge*, and its dedicated methods (functions) to calculate the Physics of the particles and particle's behavior."
   ]
  },
  {
   "cell_type": "markdown",
   "id": "58cae22d",
   "metadata": {},
   "source": [
    "### Defining the base class"
   ]
  },
  {
   "cell_type": "markdown",
   "id": "eceecd62",
   "metadata": {},
   "source": [
    "In my Particle class, I encapsulate the properties of a particle (name, mass, and charge) and provide methods to calculate kinetic and potential energy. The info function provides a summary of the particle’s attributes."
   ]
  },
  {
   "cell_type": "code",
   "execution_count": null,
   "id": "beaacb74",
   "metadata": {},
   "outputs": [],
   "source": [
    "class Particle:\n",
    "    # Class constructor\n",
    "    def __init__(self, name, mass, charge):\n",
    "        self.name   = name          # Name of the particle\n",
    "        self.mass   = mass          # Mass of the particle in kilograms\n",
    "        self.charge = charge        # Charge of the particle in coulombs\n",
    "\n",
    "    def kinetic_energy(self, velocity):\n",
    "        \"\"\"Calculate the kinetic energy of the particle.\"\"\"\n",
    "        return 0.5 * self.mass * (velocity ** 2)\n",
    "\n",
    "    def potential_energy(self, height, gravitational_acceleration=9.81):\n",
    "        \"\"\"Calculate the gravitational potential energy of the particle.\"\"\"\n",
    "        return self.mass * gravitational_acceleration * height\n",
    "\n",
    "    def info(self):\n",
    "        \"\"\"Return basic information about the particle.\"\"\"\n",
    "        return f\"{self.name}: mass = {self.mass:+.2e} kg, charge = {self.charge:+.2e} C\""
   ]
  },
  {
   "cell_type": "markdown",
   "id": "57e6d145",
   "metadata": {},
   "source": [
    "⚠️ In my function definition, I used docstrings (triple-quoted strings inside the function) for documentation. Docstrings can be used by documentation generation tools like Sphinx, Doxygen, etc. for generating documentation automatically.\n",
    "I show you more examples later in this notebook."
   ]
  },
  {
   "cell_type": "markdown",
   "id": "5d01613d",
   "metadata": {},
   "source": [
    "### Create instances of the classes"
   ]
  },
  {
   "cell_type": "code",
   "execution_count": null,
   "id": "b50748b7",
   "metadata": {},
   "outputs": [],
   "source": [
    "# Create instances of Particle for electron and proton\n",
    "electron = Particle(name=\"e-\", mass=9.11e-31, charge=-1.6e-19)\n",
    "proton   = Particle(name=\"H+\", mass=1.67e-27, charge=+1.6e-19)"
   ]
  },
  {
   "cell_type": "code",
   "execution_count": null,
   "id": "17d401ce",
   "metadata": {},
   "outputs": [],
   "source": [
    "# Calling info() method on electron and proton instances\n",
    "print(electron.info())\n",
    "print(proton.info())"
   ]
  },
  {
   "cell_type": "code",
   "execution_count": null,
   "id": "f8c2db5c",
   "metadata": {},
   "outputs": [],
   "source": [
    "# Calculating energies\n",
    "velocity = 1.0e6  # velocity in m/s\n",
    "height   = 10.0   # height in meters\n",
    "\n",
    "print(f\"{electron.name} Kinetic Energy: {electron.kinetic_energy(velocity):.3e} J\")\n",
    "print(f\"{proton.name} Kinetic Energy: {proton.kinetic_energy(velocity):.3e} J\")\n",
    "\n",
    "print(f\"{electron.name} Potential Energy: {electron.potential_energy(height):.3e} J\")\n",
    "print(f\"{proton.name} Potential Energy: {proton.potential_energy(height):.3e} J\")"
   ]
  },
  {
   "cell_type": "markdown",
   "id": "9f3c7707",
   "metadata": {},
   "source": [
    "We can also create an array (list) of particles. Here, I made an array of electrons."
   ]
  },
  {
   "cell_type": "code",
   "execution_count": null,
   "id": "07f5fff1",
   "metadata": {},
   "outputs": [],
   "source": [
    "# Create an array (list) of electrons\n",
    "num_electrons = 10\n",
    "electrons = [ Particle(name=\"e-\", mass=9.11e-31, charge=-1.6e-19) for _ in range(num_electrons) ]"
   ]
  },
  {
   "cell_type": "markdown",
   "id": "b9356ef2",
   "metadata": {},
   "source": [
    "Now I modify the Particle class to include 2D position and velocity attributes to it. I also create a separate module for calculating the trajectory of the particle. Let's implement these changes."
   ]
  },
  {
   "cell_type": "code",
   "execution_count": null,
   "id": "5a20d275",
   "metadata": {},
   "outputs": [],
   "source": [
    "import numpy as np\n",
    "\n",
    "class Particle:\n",
    "    def __init__(self, name, mass, charge, rx=0.0, ry=0.0, vx=0.0, vy=0.0):\n",
    "        self.name = name              # Public attribute: name of the particle\n",
    "        self.mass = mass              # Public attribute: mass of the particle\n",
    "        self.charge = charge          # Public attribute: charge of the particle\n",
    "        \n",
    "        # Private attributes for position and velocity\n",
    "        self.__position = np.array([rx, ry])   # Private: initial position (rx, ry)\n",
    "        self.__velocity = np.array([vx, vy])   # Private: initial velocity (vx, vy)\n",
    "\n",
    "    def set_velocity(self, vx, vy):\n",
    "        \"\"\"Public method to set the velocity of the particle.\"\"\"\n",
    "        self.__velocity = np.array([vx, vy])\n",
    "\n",
    "    def update_position(self, dt):\n",
    "        \"\"\"Update the position of the particle based on its velocity.\"\"\"\n",
    "        self.__position[0] += self.__velocity[0] * dt\n",
    "        self.__position[1] += self.__velocity[1] * dt\n",
    "\n",
    "    def reset_position(self):\n",
    "        \"\"\"Public method to reset the position of the particle.\"\"\"\n",
    "        self.__position = np.array([0.0, 0.0])  # Reset position to origin\n",
    "\n",
    "    def get_position(self):\n",
    "        \"\"\"Public method to access the private position attribute.\"\"\"\n",
    "        return self.__position.copy() # Return a copy to prevent external modification\n",
    "\n",
    "    def get_velocity(self):\n",
    "        \"\"\"Public method to access the private velocity attribute.\"\"\"\n",
    "        return self.__velocity.copy() # Return a copy to prevent external modification\n",
    "\n",
    "    def get_kinetic_energy(self):\n",
    "        \"\"\"Calculate the kinetic energy of the particle.\"\"\"\n",
    "        velocity_magnitude = np.linalg.norm(self.__velocity)  # This is equivalent to sqrt(vx^2 + vy^2)\n",
    "        return 0.5 * self.mass * (velocity_magnitude ** 2)\n",
    "\n",
    "    def info(self):\n",
    "        \"\"\"Return basic information about the particle.\"\"\"\n",
    "        return f\"{self.name}: mass = {self.mass:+.2e} kg, charge = {self.charge:+.2e} C, position = {self.get_position()}\""
   ]
  },
  {
   "cell_type": "markdown",
   "id": "6f4c69ae",
   "metadata": {},
   "source": [
    "***\n",
    "### 💡 Reflect and Run\n",
    "\n",
    "- Carefully study the code above and make sure you understand how the `Particle` class is structured and how it calculates different physical properties.\n",
    "\n",
    "- Focus on the `set` and `get` methods. What are their roles and what do they do?\n",
    "\n",
    "- The `get_kinetic_energy` method calculates the kinetic energy of the particle using:\n",
    "$ KE = \\frac{1}{2} m v^2 $, where \\( m \\) is the mass of the particle and \\( v \\) is its velocity. The method uses NumPy's `linalg.norm` function to compute the magnitude of the velocity vector, which simplifies the calculation. Can you improve the performance of the `get_kinetic_energy` method? Or do you think it is already optimized?\n",
    "***\n"
   ]
  },
  {
   "cell_type": "code",
   "execution_count": null,
   "id": "b6adca3e",
   "metadata": {},
   "outputs": [],
   "source": [
    "# Create a new particle, and we call it \"new_particle\"\n",
    "new_particle = Particle(name=\"H+\", mass=1.67e-27, charge=+1.6e-19, rx=0.0, ry=0.0, vx=1.0e5, vy=2.0e5)\n",
    "\n",
    "# Display particle information\n",
    "print(new_particle.info())\n",
    "print(\"Kinetic Energy:\", new_particle.get_kinetic_energy())\n",
    "print(\"Position:\", new_particle.get_position())\n",
    "print(\"Velocity:\", new_particle.get_velocity())"
   ]
  },
  {
   "cell_type": "markdown",
   "id": "41a2c930",
   "metadata": {},
   "source": [
    "### Define a function for trajectory calculation\n",
    "\n",
    "The trajectory of a particle can be calculated using its initial position, velocity, and acceleration. We can define a function that takes these parameters and computes the position of the particle at a given time using the equations of motion."
   ]
  },
  {
   "cell_type": "code",
   "execution_count": null,
   "id": "ea30cfe3",
   "metadata": {},
   "outputs": [],
   "source": [
    "def calculate_trajectory(particle, time_step, num_steps):\n",
    "    trajectory = []    # List to store the position of the particle at each time step\n",
    "    for _ in range(num_steps):\n",
    "        particle.update_position(time_step)\n",
    "        trajectory.append(particle.get_position())   # Append the current position to the trajectory list\n",
    "    return np.array(trajectory)"
   ]
  },
  {
   "cell_type": "markdown",
   "id": "e8de1a57",
   "metadata": {},
   "source": [
    "Note that the function we defined is outside the `Particle` class and operates on the particle's current state. The first argument of the function is the particle object itself.\n",
    "\n",
    "Let's calculate the trajectory of the new particle over time and plot it."
   ]
  },
  {
   "cell_type": "code",
   "execution_count": null,
   "id": "fd8b6456",
   "metadata": {},
   "outputs": [],
   "source": [
    "import matplotlib.pyplot as plt\n",
    "\n",
    "# Calculate trajectory for the new particle\n",
    "time_step = 1.0e-3  # seconds\n",
    "num_steps = 100\n",
    "\n",
    "trajectory = calculate_trajectory(new_particle, time_step, num_steps)\n",
    "\n",
    "# Plot the trajectory\n",
    "plt.plot(trajectory[:, 0]*1.0e-3, trajectory[:, 1]*1.0e-3, marker='.')\n",
    "plt.xlabel(\"x position (km)\")\n",
    "plt.ylabel(\"y position (km)\")\n",
    "plt.title(f\"{new_particle.name} Trajectory\")\n",
    "plt.grid(True)\n",
    "plt.show()"
   ]
  },
  {
   "cell_type": "markdown",
   "id": "9f74df3f",
   "metadata": {},
   "source": [
    "### Let's animate the particle's trajectory"
   ]
  },
  {
   "cell_type": "code",
   "execution_count": null,
   "id": "f66bff7d",
   "metadata": {},
   "outputs": [],
   "source": [
    "from IPython.display import display, clear_output\n",
    "\n",
    "def animate_particle(particle, time_step=1e-3, num_steps=10):\n",
    "\n",
    "    # Create a figure for the animation\n",
    "    fig = plt.figure(figsize=(5,5))\n",
    "\n",
    "    plt.xlabel(\"x position (km)\")\n",
    "    plt.ylabel(\"y position (km)\")\n",
    "    plt.title(f\"{particle.name} Trajectory\")\n",
    "    plt.grid(True)\n",
    "    plt.xlim(-1, 21)\n",
    "    plt.ylim(-1, 21)\n",
    "    plt.grid(True)\n",
    "    plt.gca().set_aspect(\"equal\")\n",
    "\n",
    "    # Calculate the trajectory\n",
    "    trajectory = []    # List to store the position of the particle at each time step\n",
    "    for _ in range(num_steps):\n",
    "        clear_output(wait=True)  # Clear the output for the next image frame\n",
    "        \n",
    "        particle.update_position(time_step)\n",
    "        trajectory.append(particle.get_position())   # Append the current position to the trajectory list        \n",
    "\n",
    "        plt.plot( np.array(trajectory)[:,0]*1.0e-3, np.array(trajectory)[:,1]*1.0e-3, '-', color='royalblue')\n",
    "\n",
    "        display(fig)  # Display the figure\n",
    "\n",
    "    plt.close(fig)  # Close the figure\n",
    "\n",
    "# Example\n",
    "new_particle = Particle(\"H+\", 1.67e-27, 1.6e-19, 0.0, 0.0, 1.0e5, 2.0e5)\n",
    "animate_particle(new_particle, time_step=1e-3, num_steps=100)\n"
   ]
  },
  {
   "cell_type": "markdown",
   "id": "6ae91c09",
   "metadata": {},
   "source": [
    "***\n",
    "\n",
    "## ⛷️ Do It at Home\n",
    "\n",
    "**NOTE:** This is not necessary to work on this section. If you want, you can skip over and move to the next file in this folder.\n",
    "\n",
    "Develop a **simple** class for a simple harmonic oscillator. The class should involve modeling the behavior of a mass attached to a spring, including attributes like mass (m), spring constant (k), position (x), and velocity (v). You will also implement methods to simulate the oscillation over time, so you may need to have a time (t) attribute.\n",
    "\n",
    "- Implement the constructor (`__init__`) method to initialize the object with the above attributes.\n",
    "\n",
    "- Create a method (`update_position`) to update the position of the mass based on the current velocity and the given time step (dt).\n",
    "\n",
    "- Implement a method called `apply_force` that calculates the force exerted by the spring using Hooke's Law ($F = −kx$). This method should also update the velocity based on the applied force using Newton's second law ($F=ma$).\n",
    "\n",
    "- Add a method called `total_energy` to compute and return the total energy of the oscillator. That is the sum of $KE=0.5mv^2$ and $PE=0.5kx^2$.\n",
    "\n",
    "- Finally, write a function that shows the motion of the oscillator over time. Also show the total energy at each time step. If you want, you can animate it."
   ]
  },
  {
   "cell_type": "markdown",
   "id": "2c8d87ef",
   "metadata": {},
   "source": [
    "*** \n",
    "END\n",
    "***"
   ]
  }
 ],
 "metadata": {
  "kernelspec": {
   "display_name": "Python 3",
   "language": "python",
   "name": "python3"
  },
  "language_info": {
   "codemirror_mode": {
    "name": "ipython",
    "version": 3
   },
   "file_extension": ".py",
   "mimetype": "text/x-python",
   "name": "python",
   "nbconvert_exporter": "python",
   "pygments_lexer": "ipython3",
   "version": "3.12.4"
  }
 },
 "nbformat": 4,
 "nbformat_minor": 5
}
