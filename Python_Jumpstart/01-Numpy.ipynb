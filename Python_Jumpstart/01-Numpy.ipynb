{
 "cells": [
  {
   "cell_type": "markdown",
   "id": "c78b9a0c",
   "metadata": {},
   "source": [
    "**Author:** Shahab Fatemi\n",
    "\n",
    "**Email:** shahab.fatemi@umu.se   ;   shahab.fatemi@amitiscode.com\n",
    "\n",
    "**Created:** 2025-08-01\n",
    "\n",
    "**Last update:** 2025-08-23\n",
    "\n",
    "**MIT License** — Shahab Fatemi (2025); For use in the *Machine Learning in Physics* course, Umeå University, Sweden; See the full license text in the parent folder.\n",
    "\n",
    "<hr>"
   ]
  },
  {
   "cell_type": "markdown",
   "id": "01042e4e",
   "metadata": {},
   "source": [
    "# Before you begin\n",
    "\n",
    "### ⚠️ Note 1:\n",
    "As you begin your programming journey in this course, it is important to recognize that there are numerous ways to write codes. Many programming languages offer multiple functions or methods to achieve the same task, allowing you to choose the most suitable approach for your needs. Additionaly, a variety of libraries and frameworks exist, each with unique strengths that can enhance your coding efficiency.\n",
    "\n",
    "### ⚠️ Note 2:\n",
    "Individual coding styles also play a sigfinicant role in how programmers approach their tasks. Each developer develops a unique style influenced by personal preference and experience, which may prioritize conciseness or clarity. In team environments, the story is a lot more different, requires adopting coding standards that helps maintain consistency and readability within the team. Remember that the examples provided in this course are just one of many ways to solve programming challenges.\n",
    "\n",
    "### ⚠️ Note 3:\n",
    "What truly matters in programming are the accuracy and efficiency of your code as well as its readability and maintainability. A well-written code should produce correct results while being optimized for performance, making it easier for others (or yourself in the future) to understand, modify, and build. Providing a balance between these elements is essential for delivering high-quality software.\n",
    "\n",
    "ENJOY!\n",
    "\n",
    "/Shahab Fatemi\n",
    "***"
   ]
  },
  {
   "cell_type": "markdown",
   "id": "a030e1ef",
   "metadata": {},
   "source": [
    "# Getting started\n",
    "\n",
    "In this notebook, I have included MATLAB equivalents alongside Python code to help those of you who are more comfortable with MATLAB. I know that for many of you, MATLAB has been your primary programming environment, and you are likely more experienced with it than I am. Personally, I stopped using MATLAB ~15 years ago after making the transition to Python, which I have used exclusively ever since, and satisfied with my decision.\n",
    "\n",
    "My goal here is to make the learning process smoother by bridging the gap between what you already know and the tools we are using now. For clarity, I have marked all MATLAB commands with the `>>` symbol so you can easily distinguish them from Python codes.\n",
    "\n",
    "## What is NumPy\n",
    "NumPy (**Numerical Python**) is the fundamental package for scientific computing in Python.\n",
    "\n",
    "## Hello Python\n",
    "In Python, we use `print` function to show outputs.\n",
    "\n",
    "In MATLAB, we use:\n",
    "```matlab\n",
    "    >> disp('Hello, Python!')\n",
    "```\n",
    "\n",
    "In Python:"
   ]
  },
  {
   "cell_type": "code",
   "execution_count": null,
   "id": "4700418b",
   "metadata": {},
   "outputs": [],
   "source": [
    "print(\"Hello, Python!\")"
   ]
  },
  {
   "cell_type": "markdown",
   "id": "d77cc151",
   "metadata": {},
   "source": [
    "## Why NumPy?\n",
    "\n",
    "NumPy is a library in Python that helps us work with arrays and do math easily and faster than regular Python lists.\n",
    "\n",
    "In MATLAB, arrays are the main data type and come with many built-in functions for math operations.\n",
    "\n",
    "For example, to create a one-dimensional array in MATLAB:\n",
    "```matlab\n",
    "    >> a = [1, 2, 3, 4];\n",
    "```\n",
    "\n",
    "In Python, we can use a list for this (which is explained later), but NumPy arrays make mathematical operations simpler and faster. Here is how we do it in Python using NumPy:"
   ]
  },
  {
   "cell_type": "code",
   "execution_count": null,
   "id": "6a573c8a",
   "metadata": {},
   "outputs": [],
   "source": [
    "import numpy as np         # This line is required to use NumPy\n",
    "a = np.array([1, 2, 3, 4]) # 1D array in Python\n",
    "print(a)                   # Print the array values"
   ]
  },
  {
   "cell_type": "markdown",
   "id": "447a0f79",
   "metadata": {},
   "source": [
    "## Python Lists vs. NumPy Arrays\n",
    "\n",
    "Python lists are like containers that can hold any data type but are slower for mathematical operations.\n",
    "NumPy arrays are specialized for numbers and are faster and use less memory.\n",
    "\n",
    "MATLAB only has arrays (which are like NumPy arrays), so it does math very fast.\n",
    "\n",
    "Example to multiply all elements by 2:\n",
    "\n",
    "In MATLAB:\n",
    "```matlab\n",
    "    >> a = [1, 2, 3, 4];\n",
    "    >> b = a * 2;\n",
    "```\n",
    "\n",
    "Python list (does not work directly, needs a loop or comprehension):\n",
    "```python\n",
    "    a = [1, 2, 3, 4]\n",
    "    b = [2*x for x in a]\n",
    "```\n",
    "\n",
    "NumPy array (works directly like MATLAB):"
   ]
  },
  {
   "cell_type": "code",
   "execution_count": null,
   "id": "8eec6c85",
   "metadata": {},
   "outputs": [],
   "source": [
    "import numpy as np\n",
    "a = np.array([1, 2, 3, 4])\n",
    "b = a * 2\n",
    "print(b)"
   ]
  },
  {
   "cell_type": "markdown",
   "id": "8358d137",
   "metadata": {},
   "source": [
    "## Importing in Python\n",
    "\n",
    "Importing in Python means bringing in code from other files or libraries so that you can use it in your program. Think of it like borrowwing tools from a toolbox. Instead of making everything from scratch, you can use tools (functions, classes, etc.) that others have already created. It's almost like the ToolBoxes you have in MATLAB.\n",
    "\n",
    "\n",
    "### Importing the entire library: \n",
    "You can import an entire library using the `import` statement. For example, if you want to use the math library:\n",
    "```python\n",
    "    import math\n",
    "```\n",
    "\n",
    "After importing, you can use all functions from that library. For example:\n",
    "```python     \n",
    "    result = math.sqrt(16)  # This will give you the square root of 16\n",
    "    print(result)  # print output\n",
    "```\n",
    "\n",
    "### Importing specific functions:\n",
    "If you only need one specific function, you can import it directly. For example:\n",
    "```python     \n",
    "    from math import sqrt\n",
    "```\n",
    "\n",
    "Now you can only use the `sqrt` function without the `math.` prefix:\n",
    "```python\n",
    "    result = sqrt(16)  # This will give you the square root of 16\n",
    "    print(result)  # print output\n",
    "```\n",
    "\n",
    "### Importing with an Alias:\n",
    "You can also give a library a nickname (alias) when you import it. For example:\n",
    "```python\n",
    "    import math as mt\n",
    "```\n",
    "\n",
    "Now you can use `mt` to refer to the `math` library:\n",
    "```python    \n",
    "    import math as mt\n",
    "    result = math.sqrt(16)  # This will give you the square root of 16\n",
    "    print(result)  # print output\n",
    "```\n",
    "\n",
    "To use NumPy in Python, you first need to import it. The common way is via aliasing:\n",
    "```python\n",
    "    import numpy as np\n",
    "```\n",
    "\n",
    "This means that whenever you want to use a function from NumPy, you prefix it with `np.`.\n",
    "\n",
    "In MATLAB:\n",
    "```matlab\n",
    ">> a = [1, 2, 3];\n",
    "```\n",
    "\n",
    "In Python:"
   ]
  },
  {
   "cell_type": "code",
   "execution_count": null,
   "id": "134d61ec",
   "metadata": {},
   "outputs": [],
   "source": [
    "import numpy as np\n",
    "a = np.array([1, 2, 3])\n",
    "print(a)"
   ]
  },
  {
   "cell_type": "markdown",
   "id": "74146aeb",
   "metadata": {},
   "source": [
    "Numpy also has a `sqrt` function that works on arrays."
   ]
  },
  {
   "cell_type": "code",
   "execution_count": null,
   "id": "8d911db6",
   "metadata": {},
   "outputs": [],
   "source": [
    "print( np.sqrt(a) )"
   ]
  },
  {
   "cell_type": "markdown",
   "id": "74ee787d",
   "metadata": {},
   "source": [
    "***\n",
    "# NumPy Arrays Basics\n",
    "\n",
    "## Creating Arrays\n",
    "\n",
    "We can create arrays to hold multiple numbers or values.\n",
    "\n",
    "In MATLAB:\n",
    "```matlab\n",
    "    >> a = [1, 2, 3, 4]; % row vector\n",
    "    >> b = [5; 6; 7; 8]; % column vector\n",
    "```\n",
    "\n",
    "In Python:"
   ]
  },
  {
   "cell_type": "code",
   "execution_count": null,
   "id": "c373d27a",
   "metadata": {},
   "outputs": [],
   "source": [
    "a = np.array([1, 2, 3, 4])          # 1D array\n",
    "b = np.array([[5], [6], [7], [8]])  # 2D column vector\n",
    "print(a)\n",
    "print(b)"
   ]
  },
  {
   "cell_type": "markdown",
   "id": "a6fcd95e",
   "metadata": {},
   "source": [
    "### ⚠️ Note\n",
    "1. We do not need to call import in all sub-sections. We can call it once at the beginning. So no need to import numpy again.\n",
    "\n",
    "2. `a` and `b` values are over-written after you ran the previous code section."
   ]
  },
  {
   "cell_type": "markdown",
   "id": "79735dea",
   "metadata": {},
   "source": [
    "## Different Data Types (`dtype`)\n",
    "\n",
    "Arrays can hold different types of data, such as integers, floats, or booleans.\n",
    "\n",
    "In MATLAB:\n",
    "```matlab\n",
    "    >> a = int32([1, 2, 3]);\n",
    "    >> b = single([1.1, 2.2, 3.3]);\n",
    "```\n",
    "\n",
    "In Python:"
   ]
  },
  {
   "cell_type": "code",
   "execution_count": null,
   "id": "61d897a4",
   "metadata": {},
   "outputs": [],
   "source": [
    "a = np.array([1, 2, 3]      , dtype=np.int32  )  # 32-bit integer\n",
    "b = np.array([1.1, 2.2, 3.3], dtype=np.float32)  # single precision\n",
    "c = np.array([1.1, 2.2, 3.3], dtype=np.float64)  # default type (float64) but depends on the OS/processor\n",
    "print(a)\n",
    "print(a.dtype)\n",
    "print(b)\n",
    "print(b.dtype)\n",
    "print(c)\n",
    "print(c.dtype)"
   ]
  },
  {
   "cell_type": "markdown",
   "id": "5972eada",
   "metadata": {},
   "source": [
    "List of all avaialble DataTypes:"
   ]
  },
  {
   "cell_type": "code",
   "execution_count": null,
   "id": "ed4bead5",
   "metadata": {},
   "outputs": [],
   "source": [
    "all_dtypes = sorted({np.dtype(dt).name for dt in np.sctypeDict.values()})\n",
    "print(all_dtypes)"
   ]
  },
  {
   "cell_type": "markdown",
   "id": "3aca58a3",
   "metadata": {},
   "source": [
    "## Array Attributes\n",
    "\n",
    "We can check properties of arrays:\n",
    "- `shape`: shows the size in each dimension\n",
    "- `size`: total number of elements\n",
    "- `ndim`: number of dimensions\n",
    "\n",
    "In MATLAB:\n",
    "```matlab\n",
    "    >> a = [1, 2, 3; 4, 5, 6];\n",
    "    >> [r, c] = size(a);\n",
    "    >> numel_a = numel(a);\n",
    "```\n",
    "\n",
    "In Python:"
   ]
  },
  {
   "cell_type": "code",
   "execution_count": null,
   "id": "32c2d7ae",
   "metadata": {},
   "outputs": [],
   "source": [
    "a = np.array([[1, 2, 3], [4, 5, 6]])\n",
    "print(\"Shape:\", a.shape)\n",
    "print(\"Size:\", a.size)\n",
    "print(\"Number of dimensions:\", a.ndim)"
   ]
  },
  {
   "cell_type": "markdown",
   "id": "c01f308d",
   "metadata": {},
   "source": [
    "## Array Initialization\n",
    "\n",
    "NumPy provides easy ways to create arrays filled with zeros, ones, or ranges of numbers.\n",
    "\n",
    "In MATLAB:\n",
    "```matlab\n",
    "    >> zeros_array = zeros(2,3);\n",
    "    >> ones_array = ones(2,3);\n",
    "    >> range_array = 1:5;\n",
    "    >> linspace_array = linspace(0, 1, 5);\n",
    "    >> logspace_array = logspace(0, 2, 5);\n",
    "```\n",
    "\n",
    "In Python:"
   ]
  },
  {
   "cell_type": "code",
   "execution_count": null,
   "id": "fe9c16ff",
   "metadata": {},
   "outputs": [],
   "source": [
    "zeros_array    = np.zeros((2, 3))      # 2x3 array of zeros\n",
    "print(zeros_array)"
   ]
  },
  {
   "cell_type": "code",
   "execution_count": null,
   "id": "8d01a3cb",
   "metadata": {},
   "outputs": [],
   "source": [
    "ones_array     = np.ones((2, 3))       # 2x3 array of ones\n",
    "print(ones_array)"
   ]
  },
  {
   "cell_type": "code",
   "execution_count": null,
   "id": "d038e535",
   "metadata": {},
   "outputs": [],
   "source": [
    "range_array    = np.arange(1, 6)       # Range from 1 to 5\n",
    "print(range_array)"
   ]
  },
  {
   "cell_type": "code",
   "execution_count": null,
   "id": "e0620fd2",
   "metadata": {},
   "outputs": [],
   "source": [
    "linspace_array = np.linspace(0, 1, 5)  # 5 numbers between 0 and 1\n",
    "print(linspace_array)"
   ]
  },
  {
   "cell_type": "code",
   "execution_count": null,
   "id": "a4cf5029",
   "metadata": {},
   "outputs": [],
   "source": [
    "logspace_array = np.logspace(0, 2, 5)  # 5 numbers between 10^0=1 and 10^2=100\n",
    "print(logspace_array)"
   ]
  },
  {
   "cell_type": "markdown",
   "id": "c5ac8bd5",
   "metadata": {},
   "source": [
    "## Random Arrays\n",
    "\n",
    "NumPy can create arrays with random numbers. We can set a random seed (`np.random.seed`) to get the same random numbers again (useful for testing and reproducing the results).\n",
    "\n",
    "In MATLAB:\n",
    "```matlab\n",
    "    >> rng(0); % Set seed for reproducibility\n",
    "    >> rand_array    = rand(2,3);            % Uniform random numbers between 0 and 1\n",
    "    >> randn_array   = randn(2,3);           % Normal (Gaussian) random numbers\n",
    "    >> randint_array = randi([0, 10], 2, 3); % Random integers between 0 and 10\n",
    "```\n",
    "\n",
    "In Python:"
   ]
  },
  {
   "cell_type": "code",
   "execution_count": null,
   "id": "9c7f98d3",
   "metadata": {},
   "outputs": [],
   "source": [
    "np.random.seed(0)                    # Set random seed\n",
    "rand_array = np.random.rand(2, 3)    # 2x3 array of Uniform distribution [0, 1)\n",
    "randn_array = np.random.randn(2, 3)  # 2x3 array of Normal distribution\n",
    "randint_array = np.random.randint(0, 11, size=(2, 3))  # 2x3 array of Integers between 0 and 10\n",
    "\n",
    "print(\"\\nrand_array:\\n\", rand_array)\n",
    "print(\"\\nrandn_array:\\n\", randn_array)\n",
    "print(\"\\nrandint_array:\\n\", randint_array)\n"
   ]
  },
  {
   "cell_type": "markdown",
   "id": "e18a2f19",
   "metadata": {},
   "source": [
    "***\n",
    "# Working with Arrays & Matrices\n",
    "\n",
    "## Indexing and Slicing\n",
    "\n",
    "We can access parts of arrays using indexing and slicing.\n",
    "\n",
    "Indexing allows you to retrieve individual (specific) elements from an array by specfying their position. In most programming languages, including MATLAB and Python, indexing starts at 0 or 1, depending on the language. In Python, array indexing starts from 0, which can be the most confusing part compared to MATLAB. For example, accessing the first element of an array can be done using index 0.\n",
    "\n",
    "Slicing, enables you to extract a range of elements from an array. This is done by specifying a start and end index, allowing you to create a new array that contains only the selected elements. Slicing is particularly useful for working with larger datasets, allows you to easily manipulate and analyse specific portions of data without altering the original data array. \n",
    "\n",
    "In MATLAB:\n",
    "```matlab\n",
    "    >> a = [10, 20, 30, 40, 50];\n",
    "    >> element = a(2);    % second element\n",
    "    >> slice   = a(2:4);  % elements 2 to 4\n",
    "\n",
    "    >> b = [1, 2, 3; 4, 5, 6; 7, 8, 9];\n",
    "    >> element_2d = b(2,3);      % row 2, col 3\n",
    "    >> slice_2d   = b(1:2, 2:3); % rows 1-2, cols 2-3\n",
    "```\n",
    "\n",
    "In Python:"
   ]
  },
  {
   "cell_type": "code",
   "execution_count": null,
   "id": "47bd4737",
   "metadata": {},
   "outputs": [],
   "source": [
    "# 1D indexing and slicing\n",
    "a = np.array([10, 20, 30, 40, 50])\n",
    "element = a[1]    # second element (index starts at 0)\n",
    "slice   = a[1:4]  # elements from index 1 to 3; (exclusive)\n",
    "print(\"element:\", element)\n",
    "print(\"slice  :\", slice)"
   ]
  },
  {
   "cell_type": "code",
   "execution_count": null,
   "id": "c5e1184d",
   "metadata": {},
   "outputs": [],
   "source": [
    "# 2D indexing and slicing\n",
    "b = np.array([[1,2,3], [4,5,6], [7, 8,9]])\n",
    "element_2d = b[1, 2]      # row 2, col 3\n",
    "slice_2d   = b[0:2, 1:3]  # rows 1-2, cols 2-3\n",
    "print(\"element_2d:\"  , element_2d)\n",
    "print(\"slice_2d  :\\n\", slice_2d  )"
   ]
  },
  {
   "cell_type": "markdown",
   "id": "f504c5da",
   "metadata": {},
   "source": [
    "### ⚠️ Note:\n",
    "- When working with slicing in Python, it is REALY IMPORTANT to understand how it handles the last element of a slice. In Python, slicing follows a `zero-based` index system and is `exclusive` of the endpoint. It means that when you slice an array using `a[start:end]`, the element at the end index is not included in the resulting slice. You can see this in the code section above.\n",
    "\n",
    "- How can we avoid include the last element? It is a good practice to write your code as\n",
    "```python\n",
    "    start = 2\n",
    "    end   = 5\n",
    "    slice = a[start, end+1]\n",
    "```"
   ]
  },
  {
   "cell_type": "markdown",
   "id": "26760c6b",
   "metadata": {},
   "source": [
    "## Array Assignment and References\n",
    "\n",
    "In Python, when you assign one variable to another for mutable objects like NumPy arrays, you create a reference to the same data rather than a new independent copy (i.e., Assignment by Reference). It means that any modifications made to one variable will affect the other, as both point to the same memory address. This reference behavior can lead to unintended side effects (bugs and errors) if not carefully managed.\n",
    "\n",
    "See the example below:"
   ]
  },
  {
   "cell_type": "code",
   "execution_count": null,
   "id": "45814abd",
   "metadata": {},
   "outputs": [],
   "source": [
    "a = np.array([10, 20, 30, 40, 50])\n",
    "b = a\n",
    "\n",
    "print(\"After assignment:\")\n",
    "print(\"a: \", a)\n",
    "print(\"b: \", b)\n",
    "\n",
    "b[2] = 99\n",
    "\n",
    "print(\"\\nAfter modification:\")\n",
    "print(\"a: \", a)\n",
    "print(\"b: \", b)\n"
   ]
  },
  {
   "cell_type": "markdown",
   "id": "6bd67311",
   "metadata": {},
   "source": [
    "In the code above, when you assign `b = a`, you are not creating a new array; instead, `b` becomes a reference to the same array object as `a`. As the result, any modification to `b` will also reflect in `a` since they both point to the same memory address.\n",
    "\n",
    "In the example above, after modifying `b[2]` to 99, both `a` and `b` show that the third element has changed to 99. \n",
    "\n",
    "To avoid this issue, you need to explicitly create a copy of the array when you need an independent object. Use e.g., `array.copy()`. See the code below:"
   ]
  },
  {
   "cell_type": "code",
   "execution_count": null,
   "id": "17004380",
   "metadata": {},
   "outputs": [],
   "source": [
    "a = np.array([10, 20, 30, 40, 50])\n",
    "b = a.copy()   # Create a copy of a\n",
    "\n",
    "print(\"After assignment:\")\n",
    "print(\"a: \", a)\n",
    "print(\"b: \", b)\n",
    "\n",
    "b[2] = 99\n",
    "\n",
    "print(\"\\nAfter modification:\")\n",
    "print(\"a: \", a)\n",
    "print(\"b: \", b)\n"
   ]
  },
  {
   "cell_type": "markdown",
   "id": "26c7997c",
   "metadata": {},
   "source": [
    "## Boolean Basics\n",
    "\n",
    "Comparisons create boolean arrays with `True` or `False` values.\n",
    "\n",
    "In MATLAB:\n",
    "```matlab\n",
    "    >> a = [1, 6, 3, 8];\n",
    "    >> b = a > 5;    % returns [false true false true]\n",
    "```\n",
    "\n",
    "In Python:"
   ]
  },
  {
   "cell_type": "code",
   "execution_count": null,
   "id": "4957aaf6",
   "metadata": {},
   "outputs": [],
   "source": [
    "a = np.array([1, 6, 3, 8])\n",
    "b = a > 5    # A boolean array indicating elements greater than 5\n",
    "print(b)"
   ]
  },
  {
   "cell_type": "markdown",
   "id": "0b16f98a",
   "metadata": {},
   "source": [
    "This type of operation is VERY useful in data anaysis for filtering data or for creating `masks` that help you identifying specific conditions within an array. For example, the resulting boolean array in the code section above can be used to select elements from the original array that meet the specified condition. This brings us to the next topic:"
   ]
  },
  {
   "cell_type": "markdown",
   "id": "9be00ecb",
   "metadata": {},
   "source": [
    "## Boolean Masking (Filtering data)\n",
    "\n",
    "We can use boolean arrays to select elements.\n",
    "\n",
    "In MATLAB:\n",
    "```matlab\n",
    "    >> a = [2, 7, 1, 8, 9];\n",
    "    >> mask = a > 5;\n",
    "    >> filtered = a(mask);\n",
    "```\n",
    "\n",
    "In Python:"
   ]
  },
  {
   "cell_type": "code",
   "execution_count": null,
   "id": "3d1eacb1",
   "metadata": {},
   "outputs": [],
   "source": [
    "a = np.array([2, 7, 1, 8, 9])\n",
    "mask = a > 5         # A boolean array indicating elements greater than 5\n",
    "filtered = a[mask]   # Apply the mask to filter the array\n",
    "print(filtered)"
   ]
  },
  {
   "cell_type": "markdown",
   "id": "6b5afc31",
   "metadata": {},
   "source": [
    "## Basic Array Operations\n",
    "\n",
    "We can add, subtract, multiply, divide arrays element-wise. NumPy supports broadcasting to work with arrays of different shapes.\n",
    "\n",
    "In MATLAB:\n",
    "```matlab\n",
    "    >> a = [1, 2, 3];\n",
    "    >> b = [4, 5, 6];\n",
    "    >> % Basic Operations\n",
    "    >> c = a + b;        % element-wise addition\n",
    "    >> d = a * 2;        % scalar multiplication\n",
    "    >> e = a .* b;       % element-wise multiplication\n",
    "    >> f = b ./ a;       % element-wise division\n",
    "    >> g = b .^ 3;       % element-wise exponentiation (b^3)\n",
    "    >> h = b .^ a;       % element-wise exponentiation (b^a)\n",
    "    >> i = mod(b, a);    % element-wise modulus\n",
    "```\n",
    "\n",
    "In Python:"
   ]
  },
  {
   "cell_type": "code",
   "execution_count": null,
   "id": "6f3330e9",
   "metadata": {},
   "outputs": [],
   "source": [
    "a = np.array([1, 2, 3])\n",
    "b = np.array([4, 5, 6])\n",
    "c = a + b\n",
    "d = a * 2\n",
    "e = a * b  # element-wise multiplication\n",
    "f = b / a  # element-wise division\n",
    "g = b**3   # element-wise exponentiation (here is g=b^3)\n",
    "h = b**a   # element-wise exponentiation (here is h=b^a)\n",
    "i = b % a  # element-wise modulus (here is i=b mod a)\n",
    "print(\"a + b :\", c)\n",
    "print(\"a * 2 :\", d)\n",
    "print(\"a * b :\", e)\n",
    "print(\"b / a :\", f)\n",
    "print(\"b ** 3:\", g)\n",
    "print(\"b ** a:\", h)\n",
    "print(\"b % a :\", i)"
   ]
  },
  {
   "cell_type": "markdown",
   "id": "8ecb427e",
   "metadata": {},
   "source": [
    "## Aggregation Functions\n",
    "\n",
    "Similar to MATLAB, NumPy has functions to find sum, mean, min, max, standard deviation, etc. We can also specify the axis (dimension) for these. I did not provide the MATLAB equivalents, because it is straightforward:"
   ]
  },
  {
   "cell_type": "code",
   "execution_count": null,
   "id": "fca59a61",
   "metadata": {},
   "outputs": [],
   "source": [
    "a = np.array([[1, 2, 3], [4, 5, 6]])  # 2D array\n",
    "total    = np.sum(a)            # Total sum of elements\n",
    "row_sum  = np.sum (a, axis=1)   # Sum by row\n",
    "col_mean = np.mean(a, axis=0)   # Mean by column. Note the difference\n",
    "min_val  = np.min(a)            # Minimum value\n",
    "max_val  = np.max(a)            # Maximum value\n",
    "std_dev  = np.std(a)            # Standard deviation\n",
    "\n",
    "print(\"Array:\\n\", a)\n",
    "print(\"\\nTotal sum     :\", total)\n",
    "print(\"Sum by row    :\", row_sum)\n",
    "print(\"Mean by column:\", col_mean)\n",
    "print(\"Minimum value :\", min_val)\n",
    "print(\"Maximum value :\", max_val)\n",
    "print(\"Standard deviation:\", std_dev)"
   ]
  },
  {
   "cell_type": "markdown",
   "id": "4f61e5e2",
   "metadata": {},
   "source": [
    "## Reshaping arrays\n",
    "\n",
    "We can change the shape of arrays without changing data.\n",
    "- `reshape` changes shape\n",
    "- `ravel` flattens data to 1D (returns a contiguous view of the original; Assignment by Reference)\n",
    "- `flatten` flattens data to 1D (returns a copy)\n",
    "\n",
    "In MATLAB:\n",
    "```matlab\n",
    "    >> a = 1:6;\n",
    "    >> b = reshape(a, [2, 3]);\n",
    "    >> c = b(:); % flatten to column vector\n",
    "```\n",
    "\n",
    "In Python:"
   ]
  },
  {
   "cell_type": "code",
   "execution_count": null,
   "id": "e8ed8250",
   "metadata": {},
   "outputs": [],
   "source": [
    "a = np.arange(1, 7)     # Make an array: [1 2 3 4 5 6]\n",
    "b = a.reshape((2, 3))   # Reshape to 2x3\n",
    "c = b.ravel()           # Flattened view\n",
    "d = b.flatten()         # Flattened copy\n",
    "\n",
    "print(\"Original array :\", a)\n",
    "print(\"Reshaped to 2x3:\\n\", b)\n",
    "print(\"Ravel (view)   :\", c)\n",
    "print(\"Flatten (copy) :\", d)"
   ]
  },
  {
   "cell_type": "markdown",
   "id": "23c540b7",
   "metadata": {},
   "source": [
    "## Matrices\n",
    "\n",
    "We start with creating matrices, e.g., in 2 dimensiona. We can also create arrays with higher dimensions.\n",
    "\n",
    "In MATLAB:\n",
    "```matlab\n",
    "    >> A = [1, 2; 3, 4];   % 2x2 matrix\n",
    "    >> B = zeros(2, 3, 3); % 3D array with zeros\n",
    "```\n",
    "\n",
    "In Python:"
   ]
  },
  {
   "cell_type": "code",
   "execution_count": null,
   "id": "2fe763af",
   "metadata": {},
   "outputs": [],
   "source": [
    "A = np.array([[1, 2], [3, 4]])  # 2x2 matrix; we had seen it before in the earlier code sections.\n",
    "B = np.zeros((2, 3, 3))  # 3D array (2x3x3) of zeros\n",
    "print(\"Matrix A:\\n\", A)\n",
    "print(\"3D array B shape:\", B.shape)"
   ]
  },
  {
   "cell_type": "markdown",
   "id": "fae50338",
   "metadata": {},
   "source": [
    "## Matrix multiplication (`A @ B`)\n",
    "\n",
    "To multiply matrices, use the `@` operator or `np.matmul`.\n",
    "\n",
    "In MATLAB:\n",
    "```matlab\n",
    "    >> A = [1, 2; 3, 4];\n",
    "    >> B = [5, 6; 7, 8];\n",
    "    >> C = A * B; % matrix multiplication\n",
    "```\n",
    "\n",
    "In Python:"
   ]
  },
  {
   "cell_type": "code",
   "execution_count": null,
   "id": "dd2432f9",
   "metadata": {},
   "outputs": [],
   "source": [
    "A = np.array([[1, 2], [3, 4]])\n",
    "B = np.array([[5, 6], [7, 8]])\n",
    "C = A @ B  # or np.matmul(A, B)\n",
    "print(\"Matrix multiplication AxB = C:\\n\", C)"
   ]
  },
  {
   "cell_type": "markdown",
   "id": "49749e56",
   "metadata": {},
   "source": [
    "***\n",
    "# Simple Linear Algebra\n",
    "\n",
    "We can compute transpose, inverse, determinant, and solve linear equations.\n",
    "\n",
    "In MATLAB:\n",
    "```matlab\n",
    "    >> A = [1, 2; 3, 4];\n",
    "    >> At = A';         % transpose\n",
    "    >> invA = inv(A);   % inverse\n",
    "    >> detA = det(A);   % determinant\n",
    "    >> b = [5; 6];\n",
    "    >> x = A \\ b;       % solve Ax = b\n",
    "```\n",
    "\n",
    "In Python:"
   ]
  },
  {
   "cell_type": "code",
   "execution_count": null,
   "id": "f0f6a7c5",
   "metadata": {},
   "outputs": [],
   "source": [
    "from numpy.linalg import inv, det, solve\n",
    "\n",
    "A      = np.array([[1, 2], [3, 4]])\n",
    "Atrans = A.T      # transpose\n",
    "invA   = inv(A)   # inverse\n",
    "detA   = det(A)   # determinant\n",
    "\n",
    "b = np.array([5, 6])\n",
    "x = solve(A, b)  # solve Ax = b\n",
    "\n",
    "print(\"Transpose of A:\\n\", Atrans)\n",
    "print(\"Inverse of A  :\\n\", invA  )\n",
    "print(\"Determinant A :\\n\", detA  )\n",
    "print(\"Solution x of Ax = b:\", x )"
   ]
  },
  {
   "cell_type": "markdown",
   "id": "5bfa5237",
   "metadata": {},
   "source": [
    "## Dot and cross products\n",
    "\n",
    "In MATLAB:\n",
    "```matlab\n",
    "    >> u = [1, 2, 3];\n",
    "    >> v = [4, 5, 6];\n",
    "    >> d = dot(u, v);\n",
    "    >> c = cross(u, v);\n",
    "```\n",
    "\n",
    "In Python:"
   ]
  },
  {
   "cell_type": "code",
   "execution_count": null,
   "id": "bafb786a",
   "metadata": {},
   "outputs": [],
   "source": [
    "u = np.array([1, 2, 3])\n",
    "v = np.array([4, 5, 6])\n",
    "d = np.dot(u, v)\n",
    "c = np.cross(u, v)\n",
    "\n",
    "print(\"Dot product of u and v:\", d)\n",
    "print(\"Cross product of u and v:\", c)"
   ]
  },
  {
   "cell_type": "markdown",
   "id": "f14fd8d0",
   "metadata": {},
   "source": [
    "Note that `u*v` returns element-wise multiplication of u and v."
   ]
  },
  {
   "cell_type": "code",
   "execution_count": null,
   "id": "ba4eb373",
   "metadata": {},
   "outputs": [],
   "source": [
    "print( u * v )"
   ]
  },
  {
   "cell_type": "markdown",
   "id": "7ad06a98",
   "metadata": {},
   "source": [
    "# Advanced Operations\n",
    "\n",
    "There are a lot to be covered here, but I've only listed those that are common in data analysis and might be useful in our MLP course.\n",
    "\n",
    "## Sorting\n",
    "\n",
    "Sorting can be ascending or descending.\n",
    "\n",
    "In MATLAB:\n",
    "```matlab\n",
    "    >> sort(a); % sorts array a\n",
    "```\n",
    "\n",
    "In Python:"
   ]
  },
  {
   "cell_type": "code",
   "execution_count": null,
   "id": "f3307ce3",
   "metadata": {},
   "outputs": [],
   "source": [
    "a = np.array([9, 5, 8, 0, 3])\n",
    "sorted_a = np.sort(a)  # returns a sorted copy\n",
    "print(\"Sorted array:\", sorted_a)\n",
    "\n",
    "# OR\n",
    "a.sort()  # sorts in place\n",
    "print(\"Array after in-place sort:\", a)"
   ]
  },
  {
   "cell_type": "markdown",
   "id": "1c63aa7e",
   "metadata": {},
   "source": [
    "## Searching / Finding\n",
    "\n",
    "In MATLAB these commands find specific positions in an array a:\n",
    "\n",
    "```matlab\n",
    "    >> find(a > 5)                % returns indices where elements are greater than 5.\n",
    "    >> [max_val, idx_max]= max(a) % Gives the maximum value and its index.\n",
    "    >> [min_val, idx_min]= min(a) % Gives the minimum value and its index.\n",
    "    >> find(a)                    % Returns indices of all non-zero elements in a.\n",
    "```\n",
    "\n",
    "In Python:"
   ]
  },
  {
   "cell_type": "code",
   "execution_count": null,
   "id": "7a2e86f4",
   "metadata": {},
   "outputs": [],
   "source": [
    "a = np.array([9, 5, 8, 0, 3])\n",
    "idx         = np.where(a > 5)   # indices of elements greater than 5\n",
    "idx_max     = np.argmax(a)      # index of maximum value\n",
    "idx_min     = np.argmin(a)      # index of minimum value\n",
    "nonzero_idx = np.nonzero(a)     # indices of non-zero elements\n",
    "\n",
    "print(\"Array:\", a)\n",
    "print(\"Indices of elements greater than 5:\", idx)\n",
    "print(\"Index of maximum value:\", idx_max)\n",
    "print(\"Index of minimum value:\", idx_min)\n",
    "print(\"Indices of non-zero elements:\", nonzero_idx)"
   ]
  },
  {
   "cell_type": "markdown",
   "id": "4f8fa819",
   "metadata": {},
   "source": [
    "## Concatenation\n",
    "\n",
    "Joining or concatenating arrays allows the combination of multiple arrays into one.\n",
    "\n",
    "In MATLAB:\n",
    "```matlab\n",
    "    >> a = [1, 2, 3];\n",
    "    >> b = [4, 5, 6];\n",
    "    >> c = [a, b];        % concatenate arrays\n",
    "    >> c = horzcat(a, b); % horizontal concatenation\n",
    "    >> c = vertcat(a, b); % vertical concatenation\n",
    "```\n",
    "\n",
    "In Python:"
   ]
  },
  {
   "cell_type": "code",
   "execution_count": null,
   "id": "436374f5",
   "metadata": {},
   "outputs": [],
   "source": [
    "a = np.array([1, 2, 3])\n",
    "b = np.array([4, 5, 6])\n",
    "c = np.concatenate([a, b])       # concatenate\n",
    "c_hstack = np.hstack((a, b))     # horizontal stack\n",
    "c_vstack = np.vstack((a, b))     # vertical stack\n",
    "\n",
    "print(\"Concatenate a and b:\", c)\n",
    "print(\"Horizontal stack of a and b:\", c_hstack)\n",
    "print(\"Vertical stack of a and b:\", c_vstack)"
   ]
  },
  {
   "cell_type": "markdown",
   "id": "644f20cb",
   "metadata": {},
   "source": [
    "***\n",
    "END\n",
    "***"
   ]
  }
 ],
 "metadata": {
  "kernelspec": {
   "display_name": "Python 3",
   "language": "python",
   "name": "python3"
  },
  "language_info": {
   "codemirror_mode": {
    "name": "ipython",
    "version": 3
   },
   "file_extension": ".py",
   "mimetype": "text/x-python",
   "name": "python",
   "nbconvert_exporter": "python",
   "pygments_lexer": "ipython3",
   "version": "3.12.4"
  }
 },
 "nbformat": 4,
 "nbformat_minor": 5
}
