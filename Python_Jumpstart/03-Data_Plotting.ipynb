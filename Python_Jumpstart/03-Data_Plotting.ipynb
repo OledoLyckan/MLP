{
 "cells": [
  {
   "cell_type": "markdown",
   "id": "c64d3ea0",
   "metadata": {},
   "source": [
    "**Author:** Shahab Fatemi\n",
    "\n",
    "**Email:** shahab.fatemi@umu.se   ;   shahab.fatemi@amitiscode.com\n",
    "\n",
    "**Created:** 2025-06-03\n",
    "\n",
    "**Last update:** 2025-08-24\n",
    "\n",
    "**MIT License** — Shahab Fatemi (2025); For use in the *Machine Learning in Physics* course, Umeå University, Sweden; See the full license text in the parent folder.\n",
    "\n",
    "<hr>"
   ]
  },
  {
   "cell_type": "markdown",
   "id": "7a674a69",
   "metadata": {},
   "source": [
    "# Data Visualization\n",
    "\n",
    "Data Visualization is a very important topic in data analysis.\n",
    "\n",
    "In this notebook, we will explore the basics of data plotting using `Matplotlib` and `Seaborn`, two of the most widely used libraries for data visualization in Python."
   ]
  },
  {
   "cell_type": "markdown",
   "id": "dda895c0",
   "metadata": {},
   "source": [
    "## Matplotlib\n",
    "\n",
    "### Introduction to Matplotlib\n",
    "\n",
    "Matplotlib is a powerful library for creating static, animated, and interactive visualizations in Python. Similar to other libraries, we need to import it first.\n",
    "\n",
    "```python\n",
    "import matplotlib.pyplot as plt\n",
    "```\n",
    "\n",
    "### Basic line plot\n",
    "\n",
    "In MATLAB:\n",
    "```matlab\n",
    "    >> x = linspace(0, 10, 100);  % 100 points from 0 to 10\n",
    "    >> y = sin(x);                % Sine function\n",
    "    >> plot(x, y);\n",
    "    >> xlabel('X');\n",
    "    >> ylabel('Y');\n",
    "    >> title('Sine Wave');\n",
    "    >> grid on;\n",
    "```\n",
    "\n",
    "In Python:"
   ]
  },
  {
   "cell_type": "code",
   "execution_count": null,
   "id": "f9a93b4a",
   "metadata": {},
   "outputs": [],
   "source": [
    "import numpy as np\n",
    "import matplotlib.pyplot as plt\n",
    "\n",
    "# Generating sample data\n",
    "x = np.linspace(0, 10, 100)  # 100 points from 0 to 10\n",
    "y = np.sin(x)  # Sine function\n",
    "\n",
    "plt.plot(x, y)   # Plot the sine wave\n",
    "plt.xlabel('X')  # X-axis label\n",
    "plt.ylabel('Y')  # Y-axis label\n",
    "plt.title('Sine Wave')  # Title of the plot\n",
    "plt.grid(True)  # Add grid\n",
    "plt.show()      # Display the plot"
   ]
  },
  {
   "cell_type": "markdown",
   "id": "b1e67a19",
   "metadata": {},
   "source": [
    "### Scatter plot"
   ]
  },
  {
   "cell_type": "code",
   "execution_count": null,
   "id": "2bf6c545",
   "metadata": {},
   "outputs": [],
   "source": [
    "plt.scatter(x, y, color='blue', alpha=0.7)  # alpha is between 0 and 1, used for transparency\n",
    "plt.xlabel('X')\n",
    "plt.ylabel('Y')\n",
    "plt.title('Scatter plot')\n",
    "plt.grid(True)\n",
    "plt.show()"
   ]
  },
  {
   "cell_type": "markdown",
   "id": "e60adc27",
   "metadata": {},
   "source": [
    "### `imshow` for images and 2D data"
   ]
  },
  {
   "cell_type": "code",
   "execution_count": null,
   "id": "29bb475e",
   "metadata": {},
   "outputs": [],
   "source": [
    "# Generate a 2D array of random values\n",
    "image_data = np.random.rand(10, 10)\n",
    "\n",
    "# Display data\n",
    "plt.imshow(image_data, cmap='viridis', interpolation='nearest')\n",
    "plt.colorbar()  # Add color bar\n",
    "plt.title('Random image for MLP')\n",
    "plt.show()"
   ]
  },
  {
   "cell_type": "markdown",
   "id": "cce78a75",
   "metadata": {},
   "source": [
    "### Customizing figure size"
   ]
  },
  {
   "cell_type": "code",
   "execution_count": null,
   "id": "1f9d8d7e",
   "metadata": {},
   "outputs": [],
   "source": [
    "plt.figure( figsize=(8, 4) )  # Width:8, Height:4\n",
    "plt.scatter(x, y, color='tomato')\n",
    "plt.xlabel('X')\n",
    "plt.ylabel('Y')\n",
    "plt.title('Scatter plot')\n",
    "plt.grid(True)\n",
    "plt.show()"
   ]
  },
  {
   "cell_type": "markdown",
   "id": "dd54abd6",
   "metadata": {},
   "source": [
    "### Figure display resolution\n",
    "\n",
    "For publications, we should prepare high-quality figures. For that, we use `dpi`."
   ]
  },
  {
   "cell_type": "code",
   "execution_count": null,
   "id": "c67fbbba",
   "metadata": {},
   "outputs": [],
   "source": [
    "plt.figure( figsize=(8, 4) , dpi=200)  # Width:8, Height:4 with 200 DPI \n",
    "plt.scatter(x, y, color='tomato')\n",
    "plt.xlabel('X')\n",
    "plt.ylabel('Y')\n",
    "plt.title('Scatter plot')\n",
    "plt.grid(True)\n",
    "plt.show()"
   ]
  },
  {
   "cell_type": "markdown",
   "id": "9597e71b",
   "metadata": {},
   "source": [
    "### Save figures"
   ]
  },
  {
   "cell_type": "code",
   "execution_count": null,
   "id": "e91b6116",
   "metadata": {},
   "outputs": [],
   "source": [
    "plt.figure( figsize=(8, 4) )  # Width:8, Height:4\n",
    "plt.scatter(x, y, color='tomato')\n",
    "plt.xlabel('X')\n",
    "plt.ylabel('Y')\n",
    "plt.title('Scatter plot')\n",
    "plt.grid(True)\n",
    "plt.savefig('wave_test.png', dpi=300)  # Save as PNG with DPI 300"
   ]
  },
  {
   "cell_type": "markdown",
   "id": "1ddbc0f9",
   "metadata": {},
   "source": [
    "### Subplots \n",
    "They are used to display multiple plots in a single figure."
   ]
  },
  {
   "cell_type": "code",
   "execution_count": null,
   "id": "a3d900bc",
   "metadata": {},
   "outputs": [],
   "source": [
    "# Create subplots\n",
    "fig, axs = plt.subplots(2, 2, figsize=(10, 8))  # 2 rows, 2 columns\n",
    "\n",
    "# 1st subplot\n",
    "axs[0, 0].plot(x, y)\n",
    "axs[0, 0].set_title('Sine Wave')\n",
    "\n",
    "# 2nd subplot\n",
    "axs[0, 1].scatter(x, y)\n",
    "axs[0, 1].set_title('Scatter plot')\n",
    "\n",
    "# 3rd subplot\n",
    "axs[1, 0].imshow(image_data, cmap='magma')\n",
    "axs[1, 0].set_title('Random Image')\n",
    "\n",
    "# 4th subplot\n",
    "axs[1, 1].hist(y, bins=10, color='orange')\n",
    "axs[1, 1].set_title('Histogram')\n",
    "\n",
    "plt.tight_layout()  # Adjust figure layout\n",
    "plt.show()"
   ]
  },
  {
   "cell_type": "markdown",
   "id": "e451678d",
   "metadata": {},
   "source": [
    "### Labels and changing font size"
   ]
  },
  {
   "cell_type": "code",
   "execution_count": null,
   "id": "1298edc3",
   "metadata": {},
   "outputs": [],
   "source": [
    "plt.figure()\n",
    "plt.plot(x, y)\n",
    "plt.xlabel('X', fontsize=12)\n",
    "plt.ylabel('Y', fontsize=12)\n",
    "plt.title('Sine Wave', fontsize=14, weight='bold')\n",
    "plt.grid(True)\n",
    "plt.show()"
   ]
  },
  {
   "cell_type": "markdown",
   "id": "07af2fb1",
   "metadata": {},
   "source": [
    "### Custom setting\n",
    "\n",
    "Matplotlib provides extensive options for customizing your plots. This includes adjusting the appearance of lines and markers and more.\n",
    "\n",
    "In the example below, I am plotting solution to a function y(t)."
   ]
  },
  {
   "cell_type": "code",
   "execution_count": null,
   "id": "f9c4c0fe",
   "metadata": {},
   "outputs": [],
   "source": [
    "# Computes displacement: y(t) = A * exp(-d * t) * cos(omega * t)\n",
    "def damped_oscillator(t, A, d, omega):\n",
    "    \"\"\"\n",
    "    THESE LINES ARE COMMENTS\n",
    "    t     : time array\n",
    "    A     : Amplitude\n",
    "    d     : damping coefficient\n",
    "    omega : angular frequency\n",
    "    \"\"\"\n",
    "    return A * np.exp(-d * t) * np.cos(omega * t)\n",
    "\n",
    "t  = np.linspace(0, 5*np.pi, 100)\n",
    "y1 = damped_oscillator(t, A=1, d=0.1, omega=1)\n",
    "y2 = damped_oscillator(t, A=0.5, d=0.2, omega=2)\n",
    "\n",
    "# Create a line plots\n",
    "plt.plot(t, y1, linestyle='-.' , linewidth=2.5, label=\"Wave 1\")  # Line width of 2.5\n",
    "plt.plot(t, y2, linestyle='--' , linewidth=1.0, label=\"Wave 2\")  # Line width of 1.0\n",
    "plt.xlabel(\"X\")\n",
    "plt.ylabel(\"Y\")\n",
    "plt.legend()     # Add a legend\n",
    "plt.grid(True)   # Add a grid\n",
    "plt.show()       # Display the plot"
   ]
  },
  {
   "cell_type": "markdown",
   "id": "92f7a48e",
   "metadata": {},
   "source": [
    "### Customizing marker size\n",
    "\n",
    "When creating scatter plots or adding markers to line plots, you can customize the size of the markers using the markersize parameter."
   ]
  },
  {
   "cell_type": "code",
   "execution_count": null,
   "id": "6c858746",
   "metadata": {},
   "outputs": [],
   "source": [
    "# Create a scatter plot with custom marker size\n",
    "plt.scatter(t, y1, marker=\"o\", color=\"royalblue\"  , s=70, alpha=0.7, edgecolor=\"black\", label=\"Wave 1\")\n",
    "plt.scatter(t, y2, marker=\"x\", color=\"forestgreen\", s=80, alpha=0.6, edgecolor=\"black\", label=\"Wave 2\")\n",
    "plt.xlabel(\"X axis\")\n",
    "plt.ylabel(\"Y axis\")\n",
    "plt.legend()\n",
    "plt.grid(True)\n",
    "plt.show()"
   ]
  },
  {
   "cell_type": "markdown",
   "id": "34be64af",
   "metadata": {},
   "source": [
    "### Importance of Alpha in Data Visualization\n",
    "It is important to use `alpha < 1` in your data visualization to ensure that the data is clearly presented. When you use `alpha < 1`, you can also see the patterns more clearly, especially when the data points are overlapping and some are hiding behind others. \n",
    "\n",
    "See it in an example:\n",
    "First, I generate data using `make_blobs` from `sklearn.datasets`. You have not heard about them yet, so just accept it as it is for now."
   ]
  },
  {
   "cell_type": "code",
   "execution_count": null,
   "id": "bfb2cd3d",
   "metadata": {},
   "outputs": [],
   "source": [
    "from sklearn.datasets import make_blobs\n",
    "\n",
    "# Generate synthetic data \n",
    "X_blobs, y_blobs = make_blobs(n_samples=500, centers=1, random_state=42, cluster_std=0.1)"
   ]
  },
  {
   "cell_type": "markdown",
   "id": "c0b1fa21",
   "metadata": {},
   "source": [
    "Plot data without alpha blending:"
   ]
  },
  {
   "cell_type": "code",
   "execution_count": null,
   "id": "f6240150",
   "metadata": {},
   "outputs": [],
   "source": [
    "# Visualize the blobs\n",
    "plt.figure(figsize=(4, 4), dpi=200)\n",
    "plt.scatter(X_blobs[:, 0], X_blobs[:, 1], s=70, color='royalblue', alpha=1.0, edgecolor='k')\n",
    "plt.xlabel('X')\n",
    "plt.ylabel('Y')\n",
    "plt.title('Without alpha blending')\n",
    "plt.grid(True)\n",
    "plt.show()"
   ]
  },
  {
   "cell_type": "markdown",
   "id": "7558148a",
   "metadata": {},
   "source": [
    "With alpha blending:"
   ]
  },
  {
   "cell_type": "code",
   "execution_count": null,
   "id": "22f07ff1",
   "metadata": {},
   "outputs": [],
   "source": [
    "# Visualize the blobs\n",
    "plt.figure(figsize=(4, 4), dpi=200)\n",
    "plt.scatter(X_blobs[:, 0], X_blobs[:, 1], s=70, color='royalblue', alpha=0.3, edgecolor='k')\n",
    "plt.xlabel('X')\n",
    "plt.ylabel('Y')\n",
    "plt.title('With alpha blending')\n",
    "plt.grid(True)\n",
    "plt.show()"
   ]
  },
  {
   "cell_type": "markdown",
   "id": "fc8a37a2",
   "metadata": {},
   "source": [
    "With alpha blending you can see the overlap between points more clearly, which can be useful for understanding the density of the data."
   ]
  },
  {
   "cell_type": "markdown",
   "id": "f5fcf579",
   "metadata": {},
   "source": [
    "### Advanced data generation and visualization"
   ]
  },
  {
   "cell_type": "markdown",
   "id": "43ffb5c8",
   "metadata": {},
   "source": [
    "#### Visualizing a 2D Gaussian distribution\n",
    "\n",
    "The code below creates a 2D Gaussian distribution surface. We define the mean (`mu`) and covariance (`Sigma`) of the distribution, then build a grid of `(x, y)` points using `meshgrid`. These points are reshaped into a list of coordinates to evaluate the multivariate normal probability density function (`mvnpdf`). The resulting values (`Z`) are reshaped back into a grid so they match the original `X, Y` layout. \n",
    "\n",
    "In MATLAB\n",
    "```matlab\n",
    "    >> % Mean and covariance\n",
    "    >> mu = [0 0];\n",
    "    >> Sigma = [1 0.5; 0.5 1];\n",
    "\n",
    "    >> % Grid of points\n",
    "    >> x = linspace(-3, 3, 100);\n",
    "    >> y = linspace(-3, 3, 100);\n",
    "    >> [X, Y] = meshgrid(x, y);\n",
    "    >> pos = [X(:), Y(:)];\n",
    "\n",
    "    >> % Evaluate PDF\n",
    "    >> Z = mvnpdf(pos, mu, Sigma);\n",
    "    >> Z = reshape(Z, size(X));\n",
    "\n",
    "    >> surf(X, Y, Z);\n",
    "    >> xlabel('X');\n",
    "    >> ylabel('Y');\n",
    "    >> zlabel('Probability Density');\n",
    "```\n",
    "\n",
    "In Python:\n"
   ]
  },
  {
   "cell_type": "code",
   "execution_count": null,
   "id": "c96cfec5",
   "metadata": {},
   "outputs": [],
   "source": [
    "from scipy.stats import multivariate_normal\n",
    "\n",
    "# Mean vector and covariance matrix\n",
    "mean = [0, 0]\n",
    "covariance = [[1, 0.5], [0.5, 1]]  # Covariance matrix\n",
    "\n",
    "# Create a grid of (x, y) coordinates\n",
    "x = np.linspace(-3, 3, 100)\n",
    "y = np.linspace(-3, 3, 100)\n",
    "X, Y = np.meshgrid(x, y)\n",
    "\n",
    "# Calculate the Gaussian distribution\n",
    "pos = np.dstack((X, Y))\n",
    "Z = multivariate_normal(mean, covariance).pdf(pos)\n",
    "\n",
    "# Plot data\n",
    "plt.figure(figsize=(10, 6))\n",
    "contour = plt.contour(X, Y, Z, levels=10, cmap=\"viridis\")\n",
    "plt.xlabel(\"X\")\n",
    "plt.ylabel(\"Y\")\n",
    "plt.colorbar(contour, label=\"Probability Density\")\n",
    "plt.title(\"Gaussian Contour Plot\")\n",
    "plt.grid(True)\n",
    "plt.show()"
   ]
  },
  {
   "cell_type": "code",
   "execution_count": null,
   "id": "d55083d9",
   "metadata": {},
   "outputs": [],
   "source": [
    "plt.figure(figsize=(10, 6))\n",
    "filled_contour = plt.contourf(X, Y, Z, levels=10, cmap=\"inferno\")\n",
    "plt.xlabel('X')\n",
    "plt.ylabel('Y')\n",
    "plt.colorbar(filled_contour, label='Probability Density')\n",
    "plt.title('Gaussian Contour Plot')\n",
    "plt.grid(True)\n",
    "plt.show()"
   ]
  },
  {
   "cell_type": "markdown",
   "id": "b436a9e3",
   "metadata": {},
   "source": [
    "### Matplotlib Gallery\n",
    "\n",
    "For more examples, visit https://matplotlib.org/stable/gallery/index.html "
   ]
  },
  {
   "cell_type": "markdown",
   "id": "a1315c5c",
   "metadata": {},
   "source": [
    "***\n",
    "## Data Visualization with Seaborn\n",
    "\n",
    "Seaborn is a Python visualization library based on Matplotlib that provides high level interface for drawing attractive statistical graphics. This notebook will guide you in Seaborn."
   ]
  },
  {
   "cell_type": "markdown",
   "id": "d2af1f35",
   "metadata": {},
   "source": [
    "We need data to visualize, so we load one of the pre-made datasets in Seaborn.\n",
    "https://github.com/mwaskom/seaborn-data\n",
    "\n",
    "I've selected the \"Tips\" dataset. \n",
    "\n",
    "According to : \n",
    "https://www.geeksforgeeks.org/data-science/seaborn-datasets-for-data-science/#1-tips-dataset\n",
    "\n",
    "The Tips dataset contains information about tips received by waitstaff in a restaurant. It's commonly used for regression and exploratory data analysis (EDA). The dataset includes features such as total bill amount, tip amount, gender of the person paying the bill, whether the person is a smoker, day of the week, time of day, and size of the party.\n",
    "\n",
    "- Advantages: Simple and intuitive, good for demonstrating basic statistical analysis and visualization.\n",
    "- Disadvantages: Small size limits complexity of analyses, limited to restaurant tipping context.\n",
    "\n",
    "Features and Characteristics:\n",
    "   * total_bill: Total bill amount (numerical)\n",
    "   * tip: Tip amount (numerical)\n",
    "   * sex: Gender of the person paying the bill (categorical)\n",
    "   * smoker: Whether the person is a smoker (categorical)\n",
    "   * day: Day of the week (categorical)\n",
    "   * time: Time of day (Lunch/Dinner) (categorical)\n",
    "   * size: Size of the party (numerical)"
   ]
  },
  {
   "cell_type": "code",
   "execution_count": null,
   "id": "db949c9b",
   "metadata": {},
   "outputs": [],
   "source": [
    "import seaborn as sns\n",
    "\n",
    "# Load the tips dataset\n",
    "tips = sns.load_dataset(\"tips\")\n",
    "\n",
    "# Display the first few rows of the dataset\n",
    "tips.head()"
   ]
  },
  {
   "cell_type": "markdown",
   "id": "a19ecddc",
   "metadata": {},
   "source": [
    "### ⚠️ Note:\n",
    "In Python, both ' (single quotes) and \" (double quotes) are valid ways to write strings. It is just a matter of style. Again, due to my C/C++ background, I feel more comfortable using double quotes."
   ]
  },
  {
   "cell_type": "markdown",
   "id": "825e1ed5",
   "metadata": {},
   "source": [
    "### Basic scatter plot"
   ]
  },
  {
   "cell_type": "markdown",
   "id": "602df211",
   "metadata": {},
   "source": [
    "We make a scatter plot using a table of data called `tips`.\n",
    "We want to show the relationship between:\n",
    "- x: how much people paid in total (total_bill) and \n",
    "- y: how much they gave as a tip (tip)\n",
    "\n",
    "- Each dot is one customer.\n",
    "\n",
    "We also want to:\n",
    "- Color the dots by the day (Thursday, Friday, etc.)\n",
    "- Change the shape of the dots depending on whether it was lunch or dinner.\n",
    "\n",
    "So, the plot shows:\n",
    "- Do people give more tip when they pay more?\n",
    "- Does this change on different days or at different times?\n",
    "\n",
    "In the code below, each instance of the scatter function is set to a column of the dataset. For example,\n",
    " - `x='total_bill'` uses the 'total_bill' column for the x-axis\n",
    " - `y='tip'` uses the 'tip' column for the y-axis\n",
    " - `hue='day'` colors the points by the 'day' column\n",
    " - `style='time'` changes the marker style by the 'time' column\n",
    " - `size='size'` changes the marker size by the 'size' column"
   ]
  },
  {
   "cell_type": "code",
   "execution_count": null,
   "id": "cf42589a",
   "metadata": {},
   "outputs": [],
   "source": [
    "plt.figure(figsize=(6, 4), dpi=200)\n",
    "# Scatter plot\n",
    "sns.scatterplot(data=tips, x=\"total_bill\", y=\"tip\",\n",
    "                hue=\"day\", style=\"time\", size=\"size\",\n",
    "                palette=\"deep\")  # Set color palette. Other palette options are 'pastel', 'dark', 'colorblind', etc.\n",
    "\n",
    "# Move legend outside the plot\n",
    "plt.legend(bbox_to_anchor=(1.05, 1), loc=\"upper left\", borderaxespad=0)\n",
    "plt.tight_layout()  # Avoid cutting off labels\n",
    "plt.show()"
   ]
  },
  {
   "cell_type": "markdown",
   "id": "825143c3",
   "metadata": {},
   "source": [
    "***\n",
    "### ✅ Check your understanding\n",
    "Study the figure above and make sure you understand all aspects of the plotted data. What does the figure show? Discuss with your friends. If you have any questions, please do not hesitate to ask.\n",
    "***\n"
   ]
  },
  {
   "cell_type": "markdown",
   "id": "f67f8564",
   "metadata": {},
   "source": [
    "### Box plot\n",
    "A box plot helps us understand the distribution of a dataset. \n",
    "It gives us six important summary statistics: \n",
    "- the minimum value, \n",
    "- first quartile (25th percentile), \n",
    "- median (50th percentile), \n",
    "- third quartile (75th percentile),\n",
    "- maximum value, and\n",
    "- outliers."
   ]
  },
  {
   "cell_type": "code",
   "execution_count": null,
   "id": "3b1a3a5e",
   "metadata": {},
   "outputs": [],
   "source": [
    "# Box plot\n",
    "sns.boxplot(data=tips, x=\"day\", y=\"total_bill\", hue=\"day\", palette=\"Set2\")\n",
    "plt.title(\"Total bill by day\")\n",
    "plt.show()"
   ]
  },
  {
   "cell_type": "code",
   "execution_count": null,
   "id": "5dfbe8e8",
   "metadata": {},
   "outputs": [],
   "source": [
    "# Strip plot\n",
    "sns.stripplot(data=tips, x=\"day\", y=\"total_bill\", hue=\"day\", jitter=True, palette=\"Set2\")\n",
    "plt.title(\"Strip plot of total bill by day\")\n",
    "plt.show()"
   ]
  },
  {
   "cell_type": "markdown",
   "id": "da1d2f36",
   "metadata": {},
   "source": [
    "***\n",
    "### ✅ Check your understanding\n",
    "Study and compare the last two figures. What do they show? Make sure you understand all aspects of the plotted data.\n",
    "***\n"
   ]
  },
  {
   "cell_type": "code",
   "execution_count": null,
   "id": "88c4505b",
   "metadata": {},
   "outputs": [],
   "source": [
    "# Create a pivot table\n",
    "pivot_table = tips.pivot_table(values=\"tip\", index=\"day\", columns=\"time\", aggfunc=\"mean\", observed=True)\n",
    "\n",
    "# Heatmap\n",
    "plt.figure(dpi=200)\n",
    "sns.heatmap(pivot_table, annot=True, cmap=\"Spectral_r\")  # I reversed the color palette by using '_r' at the end of its name.\n",
    "plt.title(\"Heatmap of Average tips by day and time\")\n",
    "plt.show()"
   ]
  },
  {
   "cell_type": "code",
   "execution_count": null,
   "id": "1eba36f7",
   "metadata": {},
   "outputs": [],
   "source": [
    "# Pair plot\n",
    "g = sns.pairplot(tips, hue=\"day\", palette=\"colorblind\")\n",
    "\n",
    "# Add a title to the whole figure\n",
    "g.figure.suptitle(\"Pair plot of Tips data\", y=1.05)\n",
    "\n",
    "# Set DPI\n",
    "g.figure.set_dpi(200)"
   ]
  },
  {
   "cell_type": "markdown",
   "id": "035d3afb",
   "metadata": {},
   "source": [
    "***\n",
    "### ✅ Check your understanding\n",
    "Carefully study the last two figures. What do they show? Make sure you understand all aspects of the plotted data. If you have any questions, please do not hesitate to ask. \n",
    "\n",
    "***\n",
    "END\n",
    "***"
   ]
  }
 ],
 "metadata": {
  "kernelspec": {
   "display_name": "Python 3",
   "language": "python",
   "name": "python3"
  },
  "language_info": {
   "codemirror_mode": {
    "name": "ipython",
    "version": 3
   },
   "file_extension": ".py",
   "mimetype": "text/x-python",
   "name": "python",
   "nbconvert_exporter": "python",
   "pygments_lexer": "ipython3",
   "version": "3.12.4"
  }
 },
 "nbformat": 4,
 "nbformat_minor": 5
}
